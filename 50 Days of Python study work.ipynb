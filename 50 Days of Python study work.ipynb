{
 "cells": [
  {
   "cell_type": "code",
   "execution_count": 2,
   "id": "beec0f84",
   "metadata": {
    "tags": []
   },
   "outputs": [],
   "source": [
    "\"\"\"\n",
    "Worksheets for 50 Days of Python study work\n",
    "Git path:  C:\\Users\\aaron\\OneDrive\\Documents\\50_Days_of_Data_Analysis_with_Python__The_Ultimate_Challenge_Book_for_Beginners\\50_Days_of_Data_Analysis_in_Python\n",
    "Commands:\n",
    "    git add . \n",
    "    git commit -m \"[comments]\"\n",
    "    git push\n",
    "\"\"\""
   ]
  },
  {
   "cell_type": "code",
   "execution_count": 3,
   "id": "5518ff7a",
   "metadata": {},
   "outputs": [],
   "source": [
    "#DAY ONE##############################################################################"
   ]
  },
  {
   "cell_type": "code",
   "execution_count": 256,
   "id": "ed993b44-b058-47bd-bac2-ee9e107c34b4",
   "metadata": {
    "tags": []
   },
   "outputs": [
    {
     "name": "stdout",
     "output_type": "stream",
     "text": [
      "Name: numpy\n",
      "Version: 1.24.3\n",
      "Summary: Fundamental package for array computing in Python\n",
      "Home-page: https://www.numpy.org\n",
      "Author: Travis E. Oliphant et al.\n",
      "Author-email: \n",
      "License: BSD-3-Clause\n",
      "Location: C:\\Users\\aaron\\anaconda3\\Lib\\site-packages\n",
      "Requires: \n",
      "Required-by: astropy, bokeh, Bottleneck, contourpy, daal4py, datashader, datashape, gensim, h5py, holoviews, hvplot, imagecodecs, imageio, imbalanced-learn, matplotlib, mkl-fft, mkl-random, numba, numexpr, pandas, patsy, pyarrow, pyerfa, PyWavelets, scikit-image, scikit-learn, scipy, seaborn, statsmodels, tables, tifffile, transformers, xarray\n",
      "Name: matplotlib\n",
      "Version: 3.7.1\n",
      "Summary: Python plotting package\n",
      "Home-page: https://matplotlib.org\n",
      "Author: John D. Hunter, Michael Droettboom\n",
      "Author-email: matplotlib-users@python.org\n",
      "License: PSF\n",
      "Location: C:\\Users\\aaron\\anaconda3\\Lib\\site-packages\n",
      "Requires: contourpy, cycler, fonttools, kiwisolver, numpy, packaging, pillow, pyparsing, python-dateutil\n",
      "Required-by: seaborn\n",
      "Name: pandas\n",
      "Version: 1.5.3\n",
      "Summary: Powerful data structures for data analysis, time series, and statistics\n",
      "Home-page: https://pandas.pydata.org\n",
      "Author: The Pandas Development Team\n",
      "Author-email: pandas-dev@python.org\n",
      "License: BSD-3-Clause\n",
      "Location: C:\\Users\\aaron\\anaconda3\\Lib\\site-packages\n",
      "Requires: numpy, numpy, python-dateutil, pytz\n",
      "Required-by: bokeh, datashader, holoviews, hvplot, panel, seaborn, statsmodels, xarray\n"
     ]
    }
   ],
   "source": [
    "#import numpy, check version\n",
    "import numpy as np\n",
    "!pip show numpy\n",
    "\n",
    "import matplotlib.pyplot as mpl\n",
    "!pip show matplotlib\n",
    "\n",
    "import pandas as pd\n",
    "!pip show pandas\n",
    "\n",
    "import random\n"
   ]
  },
  {
   "cell_type": "code",
   "execution_count": 5,
   "id": "c7f74fb9-3bbb-4084-a815-063be993292a",
   "metadata": {},
   "outputs": [
    {
     "data": {
      "text/plain": [
       "array([2, 3, 4, 6])"
      ]
     },
     "execution_count": 5,
     "metadata": {},
     "output_type": "execute_result"
    }
   ],
   "source": [
    "#create array FROM list\n",
    "list1 = [2,3,4,6]\n",
    "list1\n",
    "\n",
    "arr = np.array(list1)\n",
    "arr"
   ]
  },
  {
   "cell_type": "code",
   "execution_count": 6,
   "id": "7d5adc9a-71ba-487e-831b-d7e2fde56050",
   "metadata": {},
   "outputs": [
    {
     "data": {
      "text/plain": [
       "array([2, 3, 4, 6])"
      ]
     },
     "execution_count": 6,
     "metadata": {},
     "output_type": "execute_result"
    }
   ],
   "source": [
    "#create arrate WITH a list\n",
    "list2 = np.array([2,3,4,6])\n",
    "list2"
   ]
  },
  {
   "cell_type": "code",
   "execution_count": 7,
   "id": "ce7febf4",
   "metadata": {},
   "outputs": [
    {
     "name": "stdout",
     "output_type": "stream",
     "text": [
      "(4,)\n",
      "4\n",
      "1\n"
     ]
    }
   ],
   "source": [
    "#check shape, size and dimentions of array\n",
    "print(np.shape(arr))\n",
    "print(np.size(arr))\n",
    "print(arr.ndim)"
   ]
  },
  {
   "cell_type": "code",
   "execution_count": 8,
   "id": "bcf11cdc",
   "metadata": {},
   "outputs": [
    {
     "data": {
      "text/plain": [
       "array([6, 4, 3, 2])"
      ]
     },
     "execution_count": 8,
     "metadata": {},
     "output_type": "execute_result"
    }
   ],
   "source": [
    "#function to reverse and array (can also use 'flip')\n",
    "def reverse_array (array):\n",
    "    return array[::-1]\n",
    "\n",
    "reverse_array(arr)"
   ]
  },
  {
   "cell_type": "code",
   "execution_count": 9,
   "id": "aa8dcd10",
   "metadata": {},
   "outputs": [
    {
     "name": "stdout",
     "output_type": "stream",
     "text": [
      "8\n",
      "(2, 4)\n",
      "2\n"
     ]
    }
   ],
   "source": [
    "#create array from nested lists\n",
    "list1 = [[2,3,4,6], [8,10,12,14]]\n",
    "\n",
    "arr = np.array(list1)\n",
    "arr\n",
    "\n",
    "print(np.size(arr))\n",
    "print(np.shape(arr))\n",
    "print(arr.ndim)"
   ]
  },
  {
   "cell_type": "code",
   "execution_count": 10,
   "id": "7896d103",
   "metadata": {},
   "outputs": [
    {
     "name": "stdout",
     "output_type": "stream",
     "text": [
      "8\n",
      "(8,)\n",
      "1\n",
      "<class 'numpy.ndarray'>\n"
     ]
    }
   ],
   "source": [
    "#create an array from 2 lists\n",
    "list1, list2 = [2,3,4,5], [7,8,9,10]\n",
    "\n",
    "arr = np.concatenate((list1,list2))\n",
    "arr\n",
    "\n",
    "print(np.size(arr))\n",
    "print(np.shape(arr))\n",
    "print(arr.ndim)\n",
    "print(type(arr))"
   ]
  },
  {
   "cell_type": "code",
   "execution_count": 11,
   "id": "008ff910",
   "metadata": {},
   "outputs": [
    {
     "data": {
      "text/plain": [
       "array([[ 2,  3,  4,  5],\n",
       "       [ 7,  8,  9, 10]])"
      ]
     },
     "execution_count": 11,
     "metadata": {},
     "output_type": "execute_result"
    }
   ],
   "source": [
    "#reshape array to two dimentional arry\n",
    "dim2_array = np.reshape(arr,(2,4))\n",
    "dim2_array"
   ]
  },
  {
   "cell_type": "code",
   "execution_count": 12,
   "id": "8a2c1839",
   "metadata": {},
   "outputs": [
    {
     "name": "stdout",
     "output_type": "stream",
     "text": [
      "12\n",
      "(3, 4)\n",
      "2\n",
      "float64\n",
      "<class 'numpy.ndarray'>\n"
     ]
    }
   ],
   "source": [
    "#create 2 dim array from 3 lists\n",
    "list1 = [2, 3, 4, 6]\n",
    "list2 = [8, 10.1, 12, 14]\n",
    "list3 = [16, 18, 20, 22.1]\n",
    "\n",
    "arr = np.concatenate((list1, list2, list3))\n",
    "reshape_arr = np.reshape(arr, (3,4))\n",
    "reshape_arr\n",
    "\n",
    "print(np.size(reshape_arr))\n",
    "print(np.shape(reshape_arr))\n",
    "print(reshape_arr.ndim)\n",
    "print(reshape_arr.dtype)\n",
    "print(type(reshape_arr))"
   ]
  },
  {
   "cell_type": "code",
   "execution_count": 13,
   "id": "36327528",
   "metadata": {},
   "outputs": [],
   "source": [
    "# DAY 3 #########################################################################"
   ]
  },
  {
   "cell_type": "code",
   "execution_count": 14,
   "id": "225746be",
   "metadata": {},
   "outputs": [
    {
     "ename": "TypeError",
     "evalue": "'module' object is not callable",
     "output_type": "error",
     "traceback": [
      "\u001b[1;31m---------------------------------------------------------------------------\u001b[0m",
      "\u001b[1;31mTypeError\u001b[0m                                 Traceback (most recent call last)",
      "Cell \u001b[1;32mIn[14], line 1\u001b[0m\n\u001b[1;32m----> 1\u001b[0m arr \u001b[39m=\u001b[39m np\u001b[39m.\u001b[39mrandom(\u001b[39m0\u001b[39m,\u001b[39m50\u001b[39m)\n",
      "\u001b[1;31mTypeError\u001b[0m: 'module' object is not callable"
     ]
    }
   ],
   "source": [
    "arr = np.random(0,50)"
   ]
  },
  {
   "cell_type": "code",
   "execution_count": null,
   "id": "6b126a50",
   "metadata": {},
   "outputs": [
    {
     "data": {
      "text/plain": [
       "array([[0.62509547, 0.8972138 , 0.77568569, 0.22520719],\n",
       "       [0.30016628, 0.87355345, 0.0052653 , 0.82122842],\n",
       "       [0.79706943, 0.46793495, 0.30303243, 0.27842561]])"
      ]
     },
     "execution_count": 74,
     "metadata": {},
     "output_type": "execute_result"
    }
   ],
   "source": [
    "#create and array using random numbers (default = 0 to 1)\n",
    "rng = np.random.default_rng(seed = 7)\n",
    "\n",
    "rng.random((3,4))"
   ]
  },
  {
   "cell_type": "code",
   "execution_count": null,
   "id": "4a4c098a",
   "metadata": {},
   "outputs": [
    {
     "data": {
      "text/plain": [
       "array([[1, 1, 7, 4],\n",
       "       [5, 6, 7, 0],\n",
       "       [4, 1, 4, 9]], dtype=int64)"
      ]
     },
     "execution_count": 79,
     "metadata": {},
     "output_type": "execute_result"
    }
   ],
   "source": [
    "#create an array using random int\n",
    "rng = np.random.default_rng(seed=11)\n",
    "\n",
    "rng.integers(low = 0, high = 10, size = (3,4))"
   ]
  },
  {
   "cell_type": "code",
   "execution_count": null,
   "id": "9bdeb882",
   "metadata": {},
   "outputs": [
    {
     "data": {
      "image/png": "[encoded data removed]",
      "text/plain": [
       "<Figure size 640x480 with 1 Axes>"
      ]
     },
     "metadata": {},
     "output_type": "display_data"
    }
   ],
   "source": [
    "#create an array of 1000 random numbers with mean = 0 and var= 1\n",
    "np.random.seed(13)\n",
    "rng = np.random.normal(loc = 0, scale = 1, size = 1000)\n",
    "\n",
    "#create dataframe from array\n",
    "df = pd.DataFrame({'Values' : rng})\n",
    "df\n",
    "\n",
    "#show histogram of df\n",
    "df.plot(kind='hist')\n",
    "mpl.show()"
   ]
  },
  {
   "cell_type": "code",
   "execution_count": null,
   "id": "18b0bc1c",
   "metadata": {},
   "outputs": [
    {
     "data": {
      "text/plain": [
       "array([['Apple', 'Pear', 'Pear', 'Orange'],\n",
       "       ['Pear', 'Pear', 'Apple', 'Orange'],\n",
       "       ['Orange', 'Apple', 'Pear', 'Orange']], dtype='<U6')"
      ]
     },
     "execution_count": 129,
     "metadata": {},
     "output_type": "execute_result"
    }
   ],
   "source": [
    "#generate random array of shape (3,4) from list\n",
    "list = [ \"Orange\", \"Apple\", \"Pear\"]\n",
    "\n",
    "random.seed(17)\n",
    "arr = random.choices(list, k = 12)\n",
    "arr\n",
    "\n",
    "np.reshape(arr,(3,4))\n"
   ]
  },
  {
   "cell_type": "code",
   "execution_count": null,
   "id": "51b8752d",
   "metadata": {},
   "outputs": [],
   "source": [
    "# DAY 4 #######################################################################################"
   ]
  },
  {
   "cell_type": "code",
   "execution_count": 121,
   "id": "9237e379",
   "metadata": {},
   "outputs": [
    {
     "name": "stdout",
     "output_type": "stream",
     "text": [
      "arr1:  [[15 14 13]\n",
      " [19 13 12]] \n",
      "\n",
      "shape:  (2, 3)\n",
      "size:  6\n",
      "dim:  2\n",
      "type:  <class 'numpy.ndarray'>\n",
      "dtype:  int64 \n",
      "\n",
      "arr2:  [[18 10 14]]\n",
      "shape:  (1, 3)\n"
     ]
    }
   ],
   "source": [
    "# two arrays of random numbers between 10 and 20.  Array1 dimentions (2,3), Array2 dimentions (1,3).  Resouts reproducible.\n",
    "rng = np.random.default_rng(seed = 19)\n",
    "\n",
    "arr1 = rng.integers(low = 10, high = 20, size = (2,3))\n",
    "print('arr1: ', arr1, '\\n')\n",
    "print('shape: ', np.shape(arr1))\n",
    "print('size: ', np.size(arr1))\n",
    "print('dim: ', arr1.ndim)\n",
    "print('type: ', type(arr1))\n",
    "print('dtype: ', arr1.dtype, '\\n')\n",
    "\n",
    "arr2 = rng.integers(low = 10, high = 20, size = (1,3))\n",
    "print(\"arr2: \", arr2)\n",
    "print('shape: ', np.shape(arr2))"
   ]
  },
  {
   "cell_type": "code",
   "execution_count": 31,
   "id": "879a212f",
   "metadata": {},
   "outputs": [
    {
     "name": "stdout",
     "output_type": "stream",
     "text": [
      "[[33 24 27]\n",
      " [37 23 26]] \n",
      "\n",
      "[[33 24 27]\n",
      " [37 23 26]]\n"
     ]
    }
   ],
   "source": [
    "#add arr1 and ar2 and explain shape\n",
    "print(arr1 + arr2, '\\n')\n",
    "arr_sum = np.add(arr1, arr2)\n",
    "print(arr_sum)\n"
   ]
  },
  {
   "cell_type": "markdown",
   "id": "98ef8339",
   "metadata": {},
   "source": [
    "The above array addition results in a (2,3) shape as the (1,3) array is broadcast into the other array resulting in both rows of the (2,3) array being added to the (1,3) array"
   ]
  },
  {
   "cell_type": "code",
   "execution_count": 122,
   "id": "3fd41572",
   "metadata": {},
   "outputs": [
    {
     "data": {
      "text/plain": [
       "array([[592],\n",
       "       [640]], dtype=int64)"
      ]
     },
     "execution_count": 122,
     "metadata": {},
     "output_type": "execute_result"
    }
   ],
   "source": [
    "#dot operation on aar1 and arr2 cannot be done due to (2,3) and (1,3) being different shapes, must transpose aar2 so inner values match: (2,3) and (3,1)\n",
    "arr_dot = np.dot(arr1, arr2.transpose())\n",
    "arr_dot\n"
   ]
  },
  {
   "cell_type": "code",
   "execution_count": 124,
   "id": "bc11316c",
   "metadata": {},
   "outputs": [
    {
     "name": "stdout",
     "output_type": "stream",
     "text": [
      "[ 1  7  5  7  3  2  7  2  2  7  7  9  5  3  3  3  2  8  8  5  7  5  8  4\n",
      "  5  1  2  5  2  4  1  4  2  6  4  7  1  7  1  8  3  1  3  7  3  6 10  9\n",
      "  2 10  5  1  3  9  8  3  2  7  5  8  1  9  6 10  1  7  1  9  9  5  2  3\n",
      "  6  2  6  5  8  8 10  5  5  7  3  2  4 10 10  5  9  9  1  8  1  8  1  4\n",
      " 10  2  1  5]\n"
     ]
    },
    {
     "data": {
      "image/png": "[encoded data removed]",
      "text/plain": [
       "<Figure size 640x480 with 1 Axes>"
      ]
     },
     "metadata": {},
     "output_type": "display_data"
    },
    {
     "name": "stdout",
     "output_type": "stream",
     "text": [
      "median:  5.0\n",
      "mode:  1\n"
     ]
    },
    {
     "data": {
      "image/png": "[encoded data removed]",
      "text/plain": [
       "<Figure size 1000x700 with 1 Axes>"
      ]
     },
     "metadata": {},
     "output_type": "display_data"
    }
   ],
   "source": [
    "#create 1 dim array of 100 random values range 0 to 10\n",
    "rng = np.random.default_rng(seed= 23)\n",
    "arr1 = rng.integers(low = 1, high = 11, size=100)\n",
    "print(arr1)\n",
    "df = pd.DataFrame({'Value': arr1})\n",
    "\n",
    "#historgram, median, and mode\n",
    "df.plot(kind='hist')\n",
    "mpl.show()\n",
    "\n",
    "#alternate method for hist\n",
    "mpl.figure(figsize=(10,7))\n",
    "mpl.hist(arr1, bins=10)\n",
    "mpl.title(\"Histogram\", fontsize = '20')\n",
    "mpl.show\n",
    "\n",
    "\n",
    "print('median: ', np.median(arr1))\n",
    "\n",
    "from statistics import mode\n",
    "arr1_mode = mode(arr1)\n",
    "print('mode: ', arr1_mode)"
   ]
  },
  {
   "cell_type": "code",
   "execution_count": 140,
   "id": "f6ebe7f0",
   "metadata": {},
   "outputs": [],
   "source": [
    "#create 3 dimentional array with 100 random values\n",
    "rng = np.random.default_rng(seed=27)\n",
    "\n",
    "#Alternate way\n",
    "arr1_alt = rng.integers(low = 0, high = 11, size = (100,3))\n"
   ]
  },
  {
   "cell_type": "code",
   "execution_count": 142,
   "id": "663b1f51",
   "metadata": {},
   "outputs": [
    {
     "data": {
      "text/plain": [
       "<function matplotlib.pyplot.show(close=None, block=None)>"
      ]
     },
     "execution_count": 142,
     "metadata": {},
     "output_type": "execute_result"
    },
    {
     "data": {
      "image/png": "[encoded data removed]",
      "text/plain": [
       "<Figure size 1000x700 with 1 Axes>"
      ]
     },
     "metadata": {},
     "output_type": "display_data"
    }
   ],
   "source": [
    "#alternate - instead to separating layers prior to plotting, simply plot each layer from the oringinal array.\n",
    "#scatterplot of 3 dimentional array\n",
    "    #create figure\n",
    "fig = mpl.figure(figsize = (10,7))\n",
    "ax = fig.add_subplot(projection='3d')\n",
    "\n",
    "ax.scatter(arr1_alt[:,0],\n",
    "           arr1_alt[:,1],\n",
    "           arr1_alt[:,2], \n",
    "           color = 'purple')\n",
    "\n",
    "mpl.title('Alt 3D Scatter Plot', fontsize = 20)\n",
    "mpl.show"
   ]
  },
  {
   "cell_type": "code",
   "execution_count": 150,
   "id": "875a8de0",
   "metadata": {},
   "outputs": [
    {
     "name": "stdout",
     "output_type": "stream",
     "text": [
      "Numbers: \n",
      " [1 3 4 8 9 9 6]\n",
      "Indices: \n",
      " [1 2 4 5 6 8 9]\n"
     ]
    }
   ],
   "source": [
    "#create array from 2 dim list, flatten the list\n",
    "#DISPLAY all non-zero NUMBERS \n",
    "lst =[[0, 1, 3, 0, 4], [8, 9, 0, 9, 6]]\n",
    "arr1 = np.array(lst, dtype = int)\n",
    "arr1_flat = np.reshape(lst, (1,10))\n",
    "arr1_filter = arr1_flat != 0\n",
    "print('Numbers: \\n', arr1_flat[arr1_filter])\n",
    "\n",
    "#display the INDICES of non-zero values - use np.flatnonzero() to return the INDICIES\n",
    "function_nonzero = np.flatnonzero(arr1)\n",
    "print('Indices: \\n', function_nonzero)\n"
   ]
  },
  {
   "cell_type": "code",
   "execution_count": 151,
   "id": "c3f7fb1f",
   "metadata": {},
   "outputs": [],
   "source": [
    "# DAY 5 #########################################################################################"
   ]
  },
  {
   "cell_type": "code",
   "execution_count": 244,
   "id": "585d13e2",
   "metadata": {},
   "outputs": [
    {
     "name": "stdout",
     "output_type": "stream",
     "text": [
      "arr1: \n",
      " [[ 12  23 -45]\n",
      " [ 18 -77 -44]] \n",
      "\n",
      "arr1_flat: \n",
      " [ 12  23 -45  18 -77 -44] \n",
      "\n",
      "arr2: \n",
      " array('i', [-45, -77, -44]) \n",
      "\n",
      "arr1_negative: \n",
      " [-45 -77 -44]\n"
     ]
    }
   ],
   "source": [
    "# create 2 dim array and slice from array\n",
    "import array\n",
    "list_numbers = [[12, 23, -45], [18, -77, -44]]\n",
    "arr2 = array.array('i',)\n",
    "arr3 = array.array('i',)\n",
    "arr1 = np.array(list_numbers)\n",
    "print('arr1: \\n', arr1, '\\n')\n",
    "arr1_flat = arr1.flatten()\n",
    "print('arr1_flat: \\n', arr1_flat, '\\n')\n",
    "for val in arr1_flat:\n",
    "    if val < 0 :\n",
    "        arr2.append(val)\n",
    "print('arr2: \\n', arr2, '\\n')\n",
    "\n",
    "#alternate way (and the better way by far)\n",
    "arr1_negative = np.where(arr1 < 0)\n",
    "print('arr1_negative: \\n', arr1[arr1_negative])"
   ]
  },
  {
   "cell_type": "code",
   "execution_count": 223,
   "id": "4bb691a5",
   "metadata": {},
   "outputs": [
    {
     "name": "stdout",
     "output_type": "stream",
     "text": [
      "arr3_alt:  [[  24   46  -90]\n",
      " [  36 -154  -88]]\n"
     ]
    }
   ],
   "source": [
    "# create new array with values *2\n",
    "arr3_alt = np.multiply(arr1,2)\n",
    "print('arr3_alt: ', arr3_alt)\n"
   ]
  },
  {
   "cell_type": "code",
   "execution_count": 230,
   "id": "918925b3",
   "metadata": {},
   "outputs": [
    {
     "name": "stdout",
     "output_type": "stream",
     "text": [
      "[  60 -108 -178]\n"
     ]
    }
   ],
   "source": [
    "#calculate the sum of the numbers on axis-1 of arr3\n",
    "print(np.sum(arr3_alt, axis = 0))"
   ]
  },
  {
   "cell_type": "code",
   "execution_count": 233,
   "id": "601e4b36",
   "metadata": {},
   "outputs": [
    {
     "name": "stdout",
     "output_type": "stream",
     "text": [
      "[ -20 -206]\n"
     ]
    }
   ],
   "source": [
    "#calculate the sum of the numbers on axis-0 of arr3\n",
    "print(np.sum(arr3_alt, axis = 1))"
   ]
  },
  {
   "cell_type": "code",
   "execution_count": 248,
   "id": "f32c5d20",
   "metadata": {},
   "outputs": [
    {
     "name": "stdout",
     "output_type": "stream",
     "text": [
      "[[[ 0  1  2  3  4  5  6  7  8  9]\n",
      "  [10 11 12 13 14 15 16 17 18 19]\n",
      "  [20 21 22 23 24 25 26 27 28 29]\n",
      "  [30 31 32 33 34 35 36 37 38 39]\n",
      "  [40 41 42 43 44 45 46 47 48 49]]\n",
      "\n",
      " [[50 51 52 53 54 55 56 57 58 59]\n",
      "  [60 61 62 63 64 65 66 67 68 69]\n",
      "  [70 71 72 73 74 75 76 77 78 79]\n",
      "  [80 81 82 83 84 85 86 87 88 89]\n",
      "  [90 91 92 93 94 95 96 97 98 99]]]\n"
     ]
    }
   ],
   "source": [
    "#create array using arange() from 0 to 99 with shape (2,5,10)\n",
    "arr1 = np.arange(100).reshape((2,5,10))\n",
    "arr2 = arr1.reshape((2,5,10))\n",
    "print(arr1)"
   ]
  },
  {
   "cell_type": "code",
   "execution_count": 255,
   "id": "4c25a4a5",
   "metadata": {},
   "outputs": [
    {
     "name": "stdout",
     "output_type": "stream",
     "text": [
      "arr2_50s: \n",
      "     K   L   M   N   O   P   Q   R   S   T\n",
      "0  50  51  52  53  54  55  56  57  58  59 \n",
      "\n",
      "arr1_50s: \n",
      " [50 51 52 53 54 55 56 57 58 59] \n",
      "\n",
      "arr1_50s_alt: \n",
      " [50 51 52 53 54 55 56 57 58 59]\n"
     ]
    }
   ],
   "source": [
    "#slice row [50 51 52 53 54 55 56 57 58 59] from array above (arr2)\n",
    "df_horizontal = pd.DataFrame(np.hstack(arr2), columns=['A', 'B', 'C', 'D', 'E', 'F', 'G', 'H', 'I', 'J', 'K', 'L', 'M', 'N', 'O', 'P', 'Q', 'R', 'S', 'T'])\n",
    "arr2_50s = df_horizontal.iloc[:1,[10,11,12,13,14,15,16,17,18,19]]\n",
    "print('arr2_50s: \\n', arr2_50s, '\\n')\n",
    "\n",
    "#alternate way w/o a DataFrame\n",
    "arr1_50s = arr1[1,0,0:]\n",
    "print('arr1_50s: \\n', arr1_50s, '\\n')\n",
    "\n",
    "#or\n",
    "arr1_50s_alt = arr1[1,0,0:10]\n",
    "print('arr1_50s_alt: \\n', arr1_50s_alt)\n"
   ]
  },
  {
   "cell_type": "code",
   "execution_count": 257,
   "id": "515253cc",
   "metadata": {},
   "outputs": [],
   "source": [
    "# DAY 6: Array Manipulation and Vector Operations ########################################################################################################################"
   ]
  },
  {
   "cell_type": "code",
   "execution_count": 261,
   "id": "a89dd6f6",
   "metadata": {},
   "outputs": [
    {
     "data": {
      "text/plain": [
       "dtype('int32')"
      ]
     },
     "execution_count": 261,
     "metadata": {},
     "output_type": "execute_result"
    }
   ],
   "source": [
    "#create array from list of strings\n",
    "list_str = [\"23\", \"12\", \"90\", \"28\", \"30\"]\n",
    "\n",
    "arr1 = np.array(list_str, dtype='int')\n",
    "arr1.dtype"
   ]
  },
  {
   "cell_type": "code",
   "execution_count": 262,
   "id": "438ab6d0",
   "metadata": {},
   "outputs": [
    {
     "data": {
      "text/plain": [
       "27.419700946582186"
      ]
     },
     "execution_count": 262,
     "metadata": {},
     "output_type": "execute_result"
    }
   ],
   "source": [
    "#calc std dev of the array\n",
    "arr1_std = np.std(arr1)\n",
    "arr1_std"
   ]
  },
  {
   "cell_type": "code",
   "execution_count": 283,
   "id": "fafab90e",
   "metadata": {},
   "outputs": [
    {
     "name": "stdout",
     "output_type": "stream",
     "text": [
      "type: \n",
      " float64 \n",
      "\n",
      "arr1_float: \n",
      " [23. 12. 90. 28. 30.]\n"
     ]
    }
   ],
   "source": [
    "#change type of array to float\n",
    "arr1_float = arr1.astype(float)\n",
    "print('type: \\n', arr1_float.dtype, '\\n')\n",
    "print('arr1_float: \\n', arr1_float)"
   ]
  },
  {
   "cell_type": "code",
   "execution_count": 301,
   "id": "f69c88a8",
   "metadata": {},
   "outputs": [
    {
     "name": "stdout",
     "output_type": "stream",
     "text": [
      "index_sum: \n",
      " 148.0 \n",
      "\n",
      "dir_sum: \n",
      " 148.0 \n",
      "\n",
      "adv_sum: \n",
      " 148.0 \n",
      "\n"
     ]
    }
   ],
   "source": [
    "#sum values of array slice of the last 3 values\n",
    "index_sum = np.sum(arr1_float[2::])\n",
    "print('index_sum: \\n', index_sum, '\\n')\n",
    "\n",
    "#alternate way using direct indexing\n",
    "dir_sum = arr1_float[[2,3,4]].sum()\n",
    "print('dir_sum: \\n', dir_sum, '\\n')\n",
    "\n",
    "#alterante way using advanced indexing\n",
    "adv_sum = arr1_float[(arr1_float >= 28) & (arr1_float <= 90)].sum()\n",
    "print('adv_sum: \\n', adv_sum, '\\n')\n"
   ]
  },
  {
   "cell_type": "code",
   "execution_count": 270,
   "id": "ea2233fd",
   "metadata": {},
   "outputs": [
    {
     "data": {
      "text/plain": [
       "array([[55, 91, 49,  6, 57],\n",
       "       [67,  7, 47, 35, 68],\n",
       "       [70,  4, 18,  5, 77],\n",
       "       [17, 89, 98, 61, 30],\n",
       "       [30, 59, 82, 99,  6]], dtype=int64)"
      ]
     },
     "execution_count": 270,
     "metadata": {},
     "output_type": "execute_result"
    }
   ],
   "source": [
    "#create 2 dim array of int range 0:100 with shape (5,5)\n",
    "rng = np.random.default_rng(seed=31)\n",
    "arr1_2d = rng.integers(low=0, high=101, size=(5,5))\n",
    "arr1_2d\n",
    " "
   ]
  },
  {
   "cell_type": "code",
   "execution_count": 307,
   "id": "44aa08b8",
   "metadata": {},
   "outputs": [
    {
     "name": "stdout",
     "output_type": "stream",
     "text": [
      "<U6\n",
      "[['John' ' Kenny']\n",
      " ['Smith' ' Sakula']]\n"
     ]
    }
   ],
   "source": [
    "#create 2 arrays from list and join lists\n",
    "first_names = [\"John\", \" Kenny\"]\n",
    "last_names = [\"Smith\", \" Sakula\"]\n",
    "\n",
    "arr_first = np.array(first_names)\n",
    "print(arr_first.dtype)\n",
    "arr_last = np.array(last_names)\n",
    "\n",
    "arr_joined = np.char.join(\"\", [arr_first, arr_last])\n",
    "print(arr_joined)"
   ]
  },
  {
   "cell_type": "code",
   "execution_count": null,
   "id": "a2710759",
   "metadata": {},
   "outputs": [],
   "source": [
    "# DAY 7 Transpose and Swap Arrays #################################################################################"
   ]
  },
  {
   "cell_type": "code",
   "execution_count": 348,
   "id": "2e6cda42",
   "metadata": {},
   "outputs": [
    {
     "name": "stdout",
     "output_type": "stream",
     "text": [
      "arr1 : \n",
      " [[0 1 2 3 4]\n",
      " [5 6 7 8 9]]\n",
      "int32\n",
      "<class 'numpy.ndarray'> \n",
      "\n",
      "arr2: \n",
      " [[0 1]\n",
      " [2 3]\n",
      " [4 5]\n",
      " [6 7]\n",
      " [8 9]]\n",
      "int32\n",
      "<class 'numpy.ndarray'>\n"
     ]
    }
   ],
   "source": [
    "#create array range 0:10 with shape (2,5)\n",
    "arr1 = np.array(np.arange(0,10).reshape(2,5))\n",
    "print('arr1 : \\n', arr1)\n",
    "print(arr1.dtype)\n",
    "print(type(arr1), '\\n')\n",
    "\n",
    "#reshape array as new array\n",
    "arr2 = arr1.reshape(5,2)\n",
    "print('arr2: \\n', arr2)\n",
    "print(arr2.dtype)\n",
    "print(type(arr2))"
   ]
  },
  {
   "cell_type": "code",
   "execution_count": 352,
   "id": "6d470082",
   "metadata": {},
   "outputs": [
    {
     "name": "stdout",
     "output_type": "stream",
     "text": [
      "[[ 0  3  6  9 12]\n",
      " [ 6  9 12 15 18]]\n"
     ]
    }
   ],
   "source": [
    "#sum of arr1 and arr2 using transposed array\n",
    "arr2_transpose = np.transpose(arr2)\n",
    "arr_sum = np.add(arr1, arr2_transpose)\n",
    "print(arr_sum)"
   ]
  },
  {
   "cell_type": "code",
   "execution_count": 354,
   "id": "46af2192",
   "metadata": {},
   "outputs": [
    {
     "name": "stdout",
     "output_type": "stream",
     "text": [
      "[[ 0  6]\n",
      " [ 3  9]\n",
      " [ 6 12]\n",
      " [ 9 15]\n",
      " [12 18]]\n"
     ]
    }
   ],
   "source": [
    "#use swapaxes() to swap the axes of the array\n",
    "arr_sum_swap = np.swapaxes(arr_sum, 0,1)\n",
    "print(arr_sum_swap)"
   ]
  },
  {
   "cell_type": "code",
   "execution_count": 361,
   "id": "98c99e84",
   "metadata": {},
   "outputs": [
    {
     "data": {
      "text/plain": [
       "array([0, 6])"
      ]
     },
     "execution_count": 361,
     "metadata": {},
     "output_type": "execute_result"
    }
   ],
   "source": [
    "#slice row oneof array\n",
    "arr_slice = arr_sum_swap[0,0:]\n",
    "arr_slice"
   ]
  },
  {
   "cell_type": "code",
   "execution_count": null,
   "id": "8e62ca3d",
   "metadata": {},
   "outputs": [],
   "source": []
  }
 ],
 "metadata": {
  "kernelspec": {
   "display_name": "Python 3 (ipykernel)",
   "language": "python",
   "name": "python3"
  },
  "language_info": {
   "codemirror_mode": {
    "name": "ipython",
    "version": 3
   },
   "file_extension": ".py",
   "mimetype": "text/x-python",
   "name": "python",
   "nbconvert_exporter": "python",
   "pygments_lexer": "ipython3",
   "version": "3.11.3"
  }
 },
 "nbformat": 4,
 "nbformat_minor": 5
}
