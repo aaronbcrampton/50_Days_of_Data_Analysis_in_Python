{
 "cells": [
  {
   "cell_type": "code",
   "execution_count": 2,
   "id": "beec0f84",
   "metadata": {
    "tags": []
   },
   "outputs": [],
   "source": [
    "#Worksheets for 50 Days of Python study work\n",
    "#Git path:  C:\\Users\\aaron\\OneDrive\\Documents\\50_Days_of_Data_Analysis_with_Python__The_Ultimate_Challenge_Book_for_Beginners\\50_Days_of_Data_Analysis_in_Python\n",
    "#Commands:\n",
    "#    git add . \n",
    "#    git commit -m \"[comments]\""
   ]
  },
  {
   "cell_type": "code",
   "execution_count": 14,
   "id": "ed993b44-b058-47bd-bac2-ee9e107c34b4",
   "metadata": {
    "tags": []
   },
   "outputs": [
    {
     "name": "stdout",
     "output_type": "stream",
     "text": [
      "1.24.3\n"
     ]
    }
   ],
   "source": [
    "#import numpy, check version\n",
    "import numpy as np\n",
    "print(np.__version__)\n"
   ]
  },
  {
   "cell_type": "code",
   "execution_count": null,
   "id": "c7f74fb9-3bbb-4084-a815-063be993292a",
   "metadata": {},
   "outputs": [],
   "source": []
  },
  {
   "cell_type": "code",
   "execution_count": null,
   "id": "7d5adc9a-71ba-487e-831b-d7e2fde56050",
   "metadata": {},
   "outputs": [],
   "source": []
  }
 ],
 "metadata": {
  "kernelspec": {
   "display_name": "Python 3 (ipykernel)",
   "language": "python",
   "name": "python3"
  },
  "language_info": {
   "codemirror_mode": {
    "name": "ipython",
    "version": 3
   },
   "file_extension": ".py",
   "mimetype": "text/x-python",
   "name": "python",
   "nbconvert_exporter": "python",
   "pygments_lexer": "ipython3",
   "version": "3.11.3"
  }
 },
 "nbformat": 4,
 "nbformat_minor": 5
}
