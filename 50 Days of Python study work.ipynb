{
 "cells": [
  {
   "cell_type": "code",
   "execution_count": 2,
   "id": "beec0f84",
   "metadata": {
    "tags": []
   },
   "outputs": [],
   "source": [
    "\"\"\"\n",
    "Worksheets for 50 Days of Python study work\n",
    "Git path:  C:\\Users\\aaron\\OneDrive\\Documents\\50_Days_of_Data_Analysis_with_Python__The_Ultimate_Challenge_Book_for_Beginners\\50_Days_of_Data_Analysis_in_Python\n",
    "Commands:\n",
    "    git add . \n",
    "    git commit -m \"[comments]\"\n",
    "    git push\n",
    "\"\"\""
   ]
  },
  {
   "cell_type": "code",
   "execution_count": 3,
   "id": "5518ff7a",
   "metadata": {},
   "outputs": [],
   "source": [
    "#DAY ONE##############################################################################"
   ]
  },
  {
   "cell_type": "code",
   "execution_count": 3,
   "id": "ed993b44-b058-47bd-bac2-ee9e107c34b4",
   "metadata": {
    "tags": []
   },
   "outputs": [],
   "source": [
    "#import numpy, check version\n",
    "import numpy as np\n",
    "#!pip show numpy\n",
    "\n",
    "import matplotlib.pyplot as mpl\n",
    "#!pip show matplotlib\n",
    "\n",
    "import pandas as pd\n",
    "#!pip show pandas\n",
    "\n",
    "import random\n",
    "\n",
    "import seaborn as sns\n"
   ]
  },
  {
   "cell_type": "code",
   "execution_count": 5,
   "id": "c7f74fb9-3bbb-4084-a815-063be993292a",
   "metadata": {},
   "outputs": [
    {
     "data": {
      "text/plain": [
       "array([2, 3, 4, 6])"
      ]
     },
     "execution_count": 5,
     "metadata": {},
     "output_type": "execute_result"
    }
   ],
   "source": [
    "#create array FROM list\n",
    "list1 = [2,3,4,6]\n",
    "list1\n",
    "\n",
    "arr = np.array(list1)\n",
    "arr"
   ]
  },
  {
   "cell_type": "code",
   "execution_count": 6,
   "id": "7d5adc9a-71ba-487e-831b-d7e2fde56050",
   "metadata": {},
   "outputs": [
    {
     "data": {
      "text/plain": [
       "array([2, 3, 4, 6])"
      ]
     },
     "execution_count": 6,
     "metadata": {},
     "output_type": "execute_result"
    }
   ],
   "source": [
    "#create arrate WITH a list\n",
    "list2 = np.array([2,3,4,6])\n",
    "list2"
   ]
  },
  {
   "cell_type": "code",
   "execution_count": 7,
   "id": "ce7febf4",
   "metadata": {},
   "outputs": [
    {
     "name": "stdout",
     "output_type": "stream",
     "text": [
      "(4,)\n",
      "4\n",
      "1\n"
     ]
    }
   ],
   "source": [
    "#check shape, size and dimentions of array\n",
    "print(np.shape(arr))\n",
    "print(np.size(arr))\n",
    "print(arr.ndim)"
   ]
  },
  {
   "cell_type": "code",
   "execution_count": 8,
   "id": "bcf11cdc",
   "metadata": {},
   "outputs": [
    {
     "data": {
      "text/plain": [
       "array([6, 4, 3, 2])"
      ]
     },
     "execution_count": 8,
     "metadata": {},
     "output_type": "execute_result"
    }
   ],
   "source": [
    "#function to reverse and array (can also use 'flip')\n",
    "def reverse_array (array):\n",
    "    return array[::-1]\n",
    "\n",
    "reverse_array(arr)"
   ]
  },
  {
   "cell_type": "code",
   "execution_count": 9,
   "id": "aa8dcd10",
   "metadata": {},
   "outputs": [
    {
     "name": "stdout",
     "output_type": "stream",
     "text": [
      "8\n",
      "(2, 4)\n",
      "2\n"
     ]
    }
   ],
   "source": [
    "#create array from nested lists\n",
    "list1 = [[2,3,4,6], [8,10,12,14]]\n",
    "\n",
    "arr = np.array(list1)\n",
    "arr\n",
    "\n",
    "print(np.size(arr))\n",
    "print(np.shape(arr))\n",
    "print(arr.ndim)"
   ]
  },
  {
   "cell_type": "code",
   "execution_count": 10,
   "id": "7896d103",
   "metadata": {},
   "outputs": [
    {
     "name": "stdout",
     "output_type": "stream",
     "text": [
      "8\n",
      "(8,)\n",
      "1\n",
      "<class 'numpy.ndarray'>\n"
     ]
    }
   ],
   "source": [
    "#create an array from 2 lists\n",
    "list1, list2 = [2,3,4,5], [7,8,9,10]\n",
    "\n",
    "arr = np.concatenate((list1,list2))\n",
    "arr\n",
    "\n",
    "print(np.size(arr))\n",
    "print(np.shape(arr))\n",
    "print(arr.ndim)\n",
    "print(type(arr))"
   ]
  },
  {
   "cell_type": "code",
   "execution_count": 11,
   "id": "008ff910",
   "metadata": {},
   "outputs": [
    {
     "data": {
      "text/plain": [
       "array([[ 2,  3,  4,  5],\n",
       "       [ 7,  8,  9, 10]])"
      ]
     },
     "execution_count": 11,
     "metadata": {},
     "output_type": "execute_result"
    }
   ],
   "source": [
    "#reshape array to two dimentional arry\n",
    "dim2_array = np.reshape(arr,(2,4))\n",
    "dim2_array"
   ]
  },
  {
   "cell_type": "code",
   "execution_count": 12,
   "id": "8a2c1839",
   "metadata": {},
   "outputs": [
    {
     "name": "stdout",
     "output_type": "stream",
     "text": [
      "12\n",
      "(3, 4)\n",
      "2\n",
      "float64\n",
      "<class 'numpy.ndarray'>\n"
     ]
    }
   ],
   "source": [
    "#create 2 dim array from 3 lists\n",
    "list1 = [2, 3, 4, 6]\n",
    "list2 = [8, 10.1, 12, 14]\n",
    "list3 = [16, 18, 20, 22.1]\n",
    "\n",
    "arr = np.concatenate((list1, list2, list3))\n",
    "reshape_arr = np.reshape(arr, (3,4))\n",
    "reshape_arr\n",
    "\n",
    "print(np.size(reshape_arr))\n",
    "print(np.shape(reshape_arr))\n",
    "print(reshape_arr.ndim)\n",
    "print(reshape_arr.dtype)\n",
    "print(type(reshape_arr))"
   ]
  },
  {
   "cell_type": "code",
   "execution_count": 13,
   "id": "36327528",
   "metadata": {},
   "outputs": [],
   "source": [
    "# DAY 3 #########################################################################"
   ]
  },
  {
   "cell_type": "code",
   "execution_count": 172,
   "id": "225746be",
   "metadata": {},
   "outputs": [
    {
     "ename": "TypeError",
     "evalue": "'module' object is not callable",
     "output_type": "error",
     "traceback": [
      "\u001b[1;31m---------------------------------------------------------------------------\u001b[0m",
      "\u001b[1;31mTypeError\u001b[0m                                 Traceback (most recent call last)",
      "Cell \u001b[1;32mIn[172], line 1\u001b[0m\n\u001b[1;32m----> 1\u001b[0m arr \u001b[38;5;241m=\u001b[39m np\u001b[38;5;241m.\u001b[39mrandom(\u001b[38;5;241m0\u001b[39m,\u001b[38;5;241m50\u001b[39m)\n",
      "\u001b[1;31mTypeError\u001b[0m: 'module' object is not callable"
     ]
    }
   ],
   "source": [
    "arr = np.random(0,50)"
   ]
  },
  {
   "cell_type": "code",
   "execution_count": null,
   "id": "6b126a50",
   "metadata": {},
   "outputs": [
    {
     "data": {
      "text/plain": [
       "array([[0.62509547, 0.8972138 , 0.77568569, 0.22520719],\n",
       "       [0.30016628, 0.87355345, 0.0052653 , 0.82122842],\n",
       "       [0.79706943, 0.46793495, 0.30303243, 0.27842561]])"
      ]
     },
     "execution_count": 74,
     "metadata": {},
     "output_type": "execute_result"
    }
   ],
   "source": [
    "#create and array using random numbers (default = 0 to 1)\n",
    "rng = np.random.default_rng(seed = 7)\n",
    "\n",
    "rng.random((3,4))"
   ]
  },
  {
   "cell_type": "code",
   "execution_count": null,
   "id": "4a4c098a",
   "metadata": {},
   "outputs": [
    {
     "data": {
      "text/plain": [
       "array([[1, 1, 7, 4],\n",
       "       [5, 6, 7, 0],\n",
       "       [4, 1, 4, 9]], dtype=int64)"
      ]
     },
     "execution_count": 79,
     "metadata": {},
     "output_type": "execute_result"
    }
   ],
   "source": [
    "#create an array using random int\n",
    "rng = np.random.default_rng(seed=11)\n",
    "\n",
    "rng.integers(low = 0, high = 10, size = (3,4))"
   ]
  },
  {
   "cell_type": "code",
   "execution_count": null,
   "id": "9bdeb882",
   "metadata": {},
   "outputs": [
    {
     "data": {
      "image/png": "[encoded data removed]",
      "text/plain": [
       "<Figure size 640x480 with 1 Axes>"
      ]
     },
     "metadata": {},
     "output_type": "display_data"
    }
   ],
   "source": [
    "#create an array of 1000 random numbers with mean = 0 and var= 1\n",
    "np.random.seed(13)\n",
    "rng = np.random.normal(loc = 0, scale = 1, size = 1000)\n",
    "\n",
    "#create dataframe from array\n",
    "df = pd.DataFrame({'Values' : rng})\n",
    "df\n",
    "\n",
    "#show histogram of df\n",
    "df.plot(kind='hist')\n",
    "mpl.show()"
   ]
  },
  {
   "cell_type": "code",
   "execution_count": null,
   "id": "18b0bc1c",
   "metadata": {},
   "outputs": [
    {
     "data": {
      "text/plain": [
       "array([['Apple', 'Pear', 'Pear', 'Orange'],\n",
       "       ['Pear', 'Pear', 'Apple', 'Orange'],\n",
       "       ['Orange', 'Apple', 'Pear', 'Orange']], dtype='<U6')"
      ]
     },
     "execution_count": 129,
     "metadata": {},
     "output_type": "execute_result"
    }
   ],
   "source": [
    "#generate random array of shape (3,4) from list\n",
    "list = [ \"Orange\", \"Apple\", \"Pear\"]\n",
    "\n",
    "random.seed(17)\n",
    "arr = random.choices(list, k = 12)\n",
    "arr\n",
    "\n",
    "np.reshape(arr,(3,4))\n"
   ]
  },
  {
   "cell_type": "code",
   "execution_count": null,
   "id": "51b8752d",
   "metadata": {},
   "outputs": [],
   "source": [
    "# DAY 4 #######################################################################################"
   ]
  },
  {
   "cell_type": "code",
   "execution_count": 121,
   "id": "9237e379",
   "metadata": {},
   "outputs": [
    {
     "name": "stdout",
     "output_type": "stream",
     "text": [
      "arr1:  [[15 14 13]\n",
      " [19 13 12]] \n",
      "\n",
      "shape:  (2, 3)\n",
      "size:  6\n",
      "dim:  2\n",
      "type:  <class 'numpy.ndarray'>\n",
      "dtype:  int64 \n",
      "\n",
      "arr2:  [[18 10 14]]\n",
      "shape:  (1, 3)\n"
     ]
    }
   ],
   "source": [
    "# two arrays of random numbers between 10 and 20.  Array1 dimentions (2,3), Array2 dimentions (1,3).  Resuts reproducible.\n",
    "rng = np.random.default_rng(seed = 19)\n",
    "\n",
    "arr1 = rng.integers(low = 10, high = 20, size = (2,3))\n",
    "print('arr1: ', arr1, '\\n')\n",
    "print('shape: ', np.shape(arr1))\n",
    "print('size: ', np.size(arr1))\n",
    "print('dim: ', arr1.ndim)\n",
    "print('type: ', type(arr1))\n",
    "print('dtype: ', arr1.dtype, '\\n')\n",
    "\n",
    "arr2 = rng.integers(low = 10, high = 20, size = (1,3))\n",
    "print(\"arr2: \", arr2)\n",
    "print('shape: ', np.shape(arr2))"
   ]
  },
  {
   "cell_type": "code",
   "execution_count": 31,
   "id": "879a212f",
   "metadata": {},
   "outputs": [
    {
     "name": "stdout",
     "output_type": "stream",
     "text": [
      "[[33 24 27]\n",
      " [37 23 26]] \n",
      "\n",
      "[[33 24 27]\n",
      " [37 23 26]]\n"
     ]
    }
   ],
   "source": [
    "#add arr1 and ar2 and explain shape\n",
    "print(arr1 + arr2, '\\n')\n",
    "arr_sum = np.add(arr1, arr2)\n",
    "print(arr_sum)\n"
   ]
  },
  {
   "cell_type": "markdown",
   "id": "98ef8339",
   "metadata": {},
   "source": [
    "The above array addition results in a (2,3) shape as the (1,3) array is broadcast into the other array resulting in both rows of the (2,3) array being added to the (1,3) array"
   ]
  },
  {
   "cell_type": "code",
   "execution_count": 122,
   "id": "3fd41572",
   "metadata": {},
   "outputs": [
    {
     "data": {
      "text/plain": [
       "array([[592],\n",
       "       [640]], dtype=int64)"
      ]
     },
     "execution_count": 122,
     "metadata": {},
     "output_type": "execute_result"
    }
   ],
   "source": [
    "#dot operation on aar1 and arr2 cannot be done due to (2,3) and (1,3) being different shapes, must transpose aar2 so inner values match: (2,3) and (3,1)\n",
    "arr_dot = np.dot(arr1, arr2.transpose())\n",
    "arr_dot\n"
   ]
  },
  {
   "cell_type": "code",
   "execution_count": 124,
   "id": "bc11316c",
   "metadata": {},
   "outputs": [
    {
     "name": "stdout",
     "output_type": "stream",
     "text": [
      "[ 1  7  5  7  3  2  7  2  2  7  7  9  5  3  3  3  2  8  8  5  7  5  8  4\n",
      "  5  1  2  5  2  4  1  4  2  6  4  7  1  7  1  8  3  1  3  7  3  6 10  9\n",
      "  2 10  5  1  3  9  8  3  2  7  5  8  1  9  6 10  1  7  1  9  9  5  2  3\n",
      "  6  2  6  5  8  8 10  5  5  7  3  2  4 10 10  5  9  9  1  8  1  8  1  4\n",
      " 10  2  1  5]\n"
     ]
    },
    {
     "data": {
      "image/png": "[encoded data removed]",
      "text/plain": [
       "<Figure size 640x480 with 1 Axes>"
      ]
     },
     "metadata": {},
     "output_type": "display_data"
    },
    {
     "name": "stdout",
     "output_type": "stream",
     "text": [
      "median:  5.0\n",
      "mode:  1\n"
     ]
    },
    {
     "data": {
      "image/png": "[encoded data removed]",
      "text/plain": [
       "<Figure size 1000x700 with 1 Axes>"
      ]
     },
     "metadata": {},
     "output_type": "display_data"
    }
   ],
   "source": [
    "#create 1 dim array of 100 random values range 0 to 10\n",
    "rng = np.random.default_rng(seed= 23)\n",
    "arr1 = rng.integers(low = 1, high = 11, size=100)\n",
    "print(arr1)\n",
    "df = pd.DataFrame({'Value': arr1})\n",
    "\n",
    "#historgram, median, and mode\n",
    "df.plot(kind='hist')\n",
    "mpl.show()\n",
    "\n",
    "#alternate method for hist\n",
    "mpl.figure(figsize=(10,7))\n",
    "mpl.hist(arr1, bins=10)\n",
    "mpl.title(\"Histogram\", fontsize = '20')\n",
    "mpl.show\n",
    "\n",
    "\n",
    "print('median: ', np.median(arr1))\n",
    "\n",
    "from statistics import mode\n",
    "arr1_mode = mode(arr1)\n",
    "print('mode: ', arr1_mode)"
   ]
  },
  {
   "cell_type": "code",
   "execution_count": 140,
   "id": "f6ebe7f0",
   "metadata": {},
   "outputs": [],
   "source": [
    "#create 3 dimentional array with 100 random values\n",
    "rng = np.random.default_rng(seed=27)\n",
    "\n",
    "#Alternate way\n",
    "arr1_alt = rng.integers(low = 0, high = 11, size = (100,3))\n"
   ]
  },
  {
   "cell_type": "code",
   "execution_count": 142,
   "id": "663b1f51",
   "metadata": {},
   "outputs": [
    {
     "data": {
      "text/plain": [
       "<function matplotlib.pyplot.show(close=None, block=None)>"
      ]
     },
     "execution_count": 142,
     "metadata": {},
     "output_type": "execute_result"
    },
    {
     "data": {
      "image/png": "[encoded data removed]",
      "text/plain": [
       "<Figure size 1000x700 with 1 Axes>"
      ]
     },
     "metadata": {},
     "output_type": "display_data"
    }
   ],
   "source": [
    "#scatterplot of 3 dimentional array\n",
    "    #create figure\n",
    "fig = mpl.figure(figsize = (10,7))\n",
    "ax = fig.add_subplot(projection='3d')\n",
    "\n",
    "ax.scatter(arr1_alt[:,0],\n",
    "           arr1_alt[:,1],\n",
    "           arr1_alt[:,2], \n",
    "           color = 'purple')\n",
    "\n",
    "mpl.title('Alt 3D Scatter Plot', fontsize = 20)\n",
    "mpl.show"
   ]
  },
  {
   "cell_type": "code",
   "execution_count": 150,
   "id": "875a8de0",
   "metadata": {},
   "outputs": [
    {
     "name": "stdout",
     "output_type": "stream",
     "text": [
      "Numbers: \n",
      " [1 3 4 8 9 9 6]\n",
      "Indices: \n",
      " [1 2 4 5 6 8 9]\n"
     ]
    }
   ],
   "source": [
    "#create array from 2 dim list, flatten the list\n",
    "#DISPLAY all non-zero NUMBERS \n",
    "lst =[[0, 1, 3, 0, 4], [8, 9, 0, 9, 6]]\n",
    "arr1 = np.array(lst, dtype = int)\n",
    "arr1_flat = np.reshape(lst, (1,10))\n",
    "arr1_filter = arr1_flat != 0\n",
    "print('Numbers: \\n', arr1_flat[arr1_filter])\n",
    "\n",
    "#display the INDICES of non-zero values - use np.flatnonzero() to return the INDICIES\n",
    "function_nonzero = np.flatnonzero(arr1)\n",
    "print('Indices: \\n', function_nonzero)\n"
   ]
  },
  {
   "cell_type": "code",
   "execution_count": 151,
   "id": "c3f7fb1f",
   "metadata": {},
   "outputs": [],
   "source": [
    "# DAY 5 #########################################################################################"
   ]
  },
  {
   "cell_type": "code",
   "execution_count": 244,
   "id": "585d13e2",
   "metadata": {},
   "outputs": [
    {
     "name": "stdout",
     "output_type": "stream",
     "text": [
      "arr1: \n",
      " [[ 12  23 -45]\n",
      " [ 18 -77 -44]] \n",
      "\n",
      "arr1_flat: \n",
      " [ 12  23 -45  18 -77 -44] \n",
      "\n",
      "arr2: \n",
      " array('i', [-45, -77, -44]) \n",
      "\n",
      "arr1_negative: \n",
      " [-45 -77 -44]\n"
     ]
    }
   ],
   "source": [
    "# create 2 dim array and slice from array\n",
    "import array\n",
    "list_numbers = [[12, 23, -45], [18, -77, -44]]\n",
    "arr2 = array.array('i',)\n",
    "arr3 = array.array('i',)\n",
    "arr1 = np.array(list_numbers)\n",
    "print('arr1: \\n', arr1, '\\n')\n",
    "arr1_flat = arr1.flatten()\n",
    "print('arr1_flat: \\n', arr1_flat, '\\n')\n",
    "for val in arr1_flat:\n",
    "    if val < 0 :\n",
    "        arr2.append(val)\n",
    "print('arr2: \\n', arr2, '\\n')\n",
    "\n",
    "#alternate way (and the better way by far)\n",
    "arr1_negative = np.where(arr1 < 0)\n",
    "print('arr1_negative: \\n', arr1[arr1_negative])"
   ]
  },
  {
   "cell_type": "code",
   "execution_count": 223,
   "id": "4bb691a5",
   "metadata": {},
   "outputs": [
    {
     "name": "stdout",
     "output_type": "stream",
     "text": [
      "arr3_alt:  [[  24   46  -90]\n",
      " [  36 -154  -88]]\n"
     ]
    }
   ],
   "source": [
    "# create new array with values *2\n",
    "arr3_alt = np.multiply(arr1,2)\n",
    "print('arr3_alt: ', arr3_alt)\n"
   ]
  },
  {
   "cell_type": "code",
   "execution_count": 230,
   "id": "918925b3",
   "metadata": {},
   "outputs": [
    {
     "name": "stdout",
     "output_type": "stream",
     "text": [
      "[  60 -108 -178]\n"
     ]
    }
   ],
   "source": [
    "#calculate the sum of the numbers on axis-1 of arr3\n",
    "print(np.sum(arr3_alt, axis = 0))"
   ]
  },
  {
   "cell_type": "code",
   "execution_count": 233,
   "id": "601e4b36",
   "metadata": {},
   "outputs": [
    {
     "name": "stdout",
     "output_type": "stream",
     "text": [
      "[ -20 -206]\n"
     ]
    }
   ],
   "source": [
    "#calculate the sum of the numbers on axis-0 of arr3\n",
    "print(np.sum(arr3_alt, axis = 1))"
   ]
  },
  {
   "cell_type": "code",
   "execution_count": 248,
   "id": "f32c5d20",
   "metadata": {},
   "outputs": [
    {
     "name": "stdout",
     "output_type": "stream",
     "text": [
      "[[[ 0  1  2  3  4  5  6  7  8  9]\n",
      "  [10 11 12 13 14 15 16 17 18 19]\n",
      "  [20 21 22 23 24 25 26 27 28 29]\n",
      "  [30 31 32 33 34 35 36 37 38 39]\n",
      "  [40 41 42 43 44 45 46 47 48 49]]\n",
      "\n",
      " [[50 51 52 53 54 55 56 57 58 59]\n",
      "  [60 61 62 63 64 65 66 67 68 69]\n",
      "  [70 71 72 73 74 75 76 77 78 79]\n",
      "  [80 81 82 83 84 85 86 87 88 89]\n",
      "  [90 91 92 93 94 95 96 97 98 99]]]\n"
     ]
    }
   ],
   "source": [
    "#create array using arange() from 0 to 99 with shape (2,5,10)\n",
    "arr1 = np.arange(100).reshape((2,5,10))\n",
    "arr2 = arr1.reshape((2,5,10))\n",
    "print(arr1)"
   ]
  },
  {
   "cell_type": "code",
   "execution_count": 255,
   "id": "4c25a4a5",
   "metadata": {},
   "outputs": [
    {
     "name": "stdout",
     "output_type": "stream",
     "text": [
      "arr2_50s: \n",
      "     K   L   M   N   O   P   Q   R   S   T\n",
      "0  50  51  52  53  54  55  56  57  58  59 \n",
      "\n",
      "arr1_50s: \n",
      " [50 51 52 53 54 55 56 57 58 59] \n",
      "\n",
      "arr1_50s_alt: \n",
      " [50 51 52 53 54 55 56 57 58 59]\n"
     ]
    }
   ],
   "source": [
    "#slice row [50 51 52 53 54 55 56 57 58 59] from array above (arr2)\n",
    "df_horizontal = pd.DataFrame(np.hstack(arr2), columns=['A', 'B', 'C', 'D', 'E', 'F', 'G', 'H', 'I', 'J', 'K', 'L', 'M', 'N', 'O', 'P', 'Q', 'R', 'S', 'T'])\n",
    "arr2_50s = df_horizontal.iloc[:1,[10,11,12,13,14,15,16,17,18,19]]\n",
    "print('arr2_50s: \\n', arr2_50s, '\\n')\n",
    "\n",
    "#alternate way w/o a DataFrame\n",
    "arr1_50s = arr1[1,0,0:]\n",
    "print('arr1_50s: \\n', arr1_50s, '\\n')\n",
    "\n",
    "#or\n",
    "arr1_50s_alt = arr1[1,0,0:10]\n",
    "print('arr1_50s_alt: \\n', arr1_50s_alt)\n"
   ]
  },
  {
   "cell_type": "code",
   "execution_count": 257,
   "id": "515253cc",
   "metadata": {},
   "outputs": [],
   "source": [
    "# DAY 6: Array Manipulation and Vector Operations ########################################################################################################################"
   ]
  },
  {
   "cell_type": "code",
   "execution_count": 261,
   "id": "a89dd6f6",
   "metadata": {},
   "outputs": [
    {
     "data": {
      "text/plain": [
       "dtype('int32')"
      ]
     },
     "execution_count": 261,
     "metadata": {},
     "output_type": "execute_result"
    }
   ],
   "source": [
    "#create array from list of strings\n",
    "list_str = [\"23\", \"12\", \"90\", \"28\", \"30\"]\n",
    "\n",
    "arr1 = np.array(list_str, dtype='int')\n",
    "arr1.dtype"
   ]
  },
  {
   "cell_type": "code",
   "execution_count": 262,
   "id": "438ab6d0",
   "metadata": {},
   "outputs": [
    {
     "data": {
      "text/plain": [
       "27.419700946582186"
      ]
     },
     "execution_count": 262,
     "metadata": {},
     "output_type": "execute_result"
    }
   ],
   "source": [
    "#calc std dev of the array\n",
    "arr1_std = np.std(arr1)\n",
    "arr1_std"
   ]
  },
  {
   "cell_type": "code",
   "execution_count": 283,
   "id": "fafab90e",
   "metadata": {},
   "outputs": [
    {
     "name": "stdout",
     "output_type": "stream",
     "text": [
      "type: \n",
      " float64 \n",
      "\n",
      "arr1_float: \n",
      " [23. 12. 90. 28. 30.]\n"
     ]
    }
   ],
   "source": [
    "#change type of array to float\n",
    "arr1_float = arr1.astype(float)\n",
    "print('type: \\n', arr1_float.dtype, '\\n')\n",
    "print('arr1_float: \\n', arr1_float)"
   ]
  },
  {
   "cell_type": "code",
   "execution_count": 301,
   "id": "f69c88a8",
   "metadata": {},
   "outputs": [
    {
     "name": "stdout",
     "output_type": "stream",
     "text": [
      "index_sum: \n",
      " 148.0 \n",
      "\n",
      "dir_sum: \n",
      " 148.0 \n",
      "\n",
      "adv_sum: \n",
      " 148.0 \n",
      "\n"
     ]
    }
   ],
   "source": [
    "#sum values of array slice of the last 3 values\n",
    "index_sum = np.sum(arr1_float[2::])\n",
    "print('index_sum: \\n', index_sum, '\\n')\n",
    "\n",
    "#alternate way using direct indexing\n",
    "dir_sum = arr1_float[[2,3,4]].sum()\n",
    "print('dir_sum: \\n', dir_sum, '\\n')\n",
    "\n",
    "#alterante way using advanced indexing\n",
    "adv_sum = arr1_float[(arr1_float >= 28) & (arr1_float <= 90)].sum()\n",
    "print('adv_sum: \\n', adv_sum, '\\n')\n"
   ]
  },
  {
   "cell_type": "code",
   "execution_count": 270,
   "id": "ea2233fd",
   "metadata": {},
   "outputs": [
    {
     "data": {
      "text/plain": [
       "array([[55, 91, 49,  6, 57],\n",
       "       [67,  7, 47, 35, 68],\n",
       "       [70,  4, 18,  5, 77],\n",
       "       [17, 89, 98, 61, 30],\n",
       "       [30, 59, 82, 99,  6]], dtype=int64)"
      ]
     },
     "execution_count": 270,
     "metadata": {},
     "output_type": "execute_result"
    }
   ],
   "source": [
    "#create 2 dim array of int range 0:100 with shape (5,5)\n",
    "rng = np.random.default_rng(seed=31)\n",
    "arr1_2d = rng.integers(low=0, high=101, size=(5,5))\n",
    "arr1_2d\n",
    " "
   ]
  },
  {
   "cell_type": "code",
   "execution_count": 307,
   "id": "44aa08b8",
   "metadata": {},
   "outputs": [
    {
     "name": "stdout",
     "output_type": "stream",
     "text": [
      "<U6\n",
      "[['John' ' Kenny']\n",
      " ['Smith' ' Sakula']]\n"
     ]
    }
   ],
   "source": [
    "#create 2 arrays from list and join lists\n",
    "first_names = [\"John\", \" Kenny\"]\n",
    "last_names = [\"Smith\", \" Sakula\"]\n",
    "\n",
    "arr_first = np.array(first_names)\n",
    "print(arr_first.dtype)\n",
    "arr_last = np.array(last_names)\n",
    "\n",
    "arr_joined = np.char.join(\"\", [arr_first, arr_last])\n",
    "print(arr_joined)"
   ]
  },
  {
   "cell_type": "code",
   "execution_count": null,
   "id": "a2710759",
   "metadata": {},
   "outputs": [],
   "source": [
    "# DAY 7 Transpose and Swap Arrays #################################################################################"
   ]
  },
  {
   "cell_type": "code",
   "execution_count": 371,
   "id": "2e6cda42",
   "metadata": {},
   "outputs": [
    {
     "name": "stdout",
     "output_type": "stream",
     "text": [
      "arr1 : \n",
      " [[0 1 2 3 4]\n",
      " [5 6 7 8 9]]\n",
      "int32\n",
      "<class 'numpy.ndarray'> \n",
      "\n",
      "arr2: \n",
      " [[0 1]\n",
      " [2 3]\n",
      " [4 5]\n",
      " [6 7]\n",
      " [8 9]]\n",
      "int32\n",
      "<class 'numpy.ndarray'>\n"
     ]
    }
   ],
   "source": [
    "#create array range 0:10 with shape (2,5)\n",
    "arr1 = np.arange(0,10).reshape(2,5)\n",
    "print('arr1 : \\n', arr1)\n",
    "print(arr1.dtype)\n",
    "print(type(arr1), '\\n')\n",
    "\n",
    "#reshape array as new array\n",
    "arr2 = arr1.reshape(5,2)\n",
    "print('arr2: \\n', arr2)\n",
    "print(arr2.dtype)\n",
    "print(type(arr2))"
   ]
  },
  {
   "cell_type": "code",
   "execution_count": 379,
   "id": "6d470082",
   "metadata": {},
   "outputs": [
    {
     "name": "stdout",
     "output_type": "stream",
     "text": [
      "[[ 0  3  6  9 12]\n",
      " [ 6  9 12 15 18]]\n",
      "[[ 0  3  6  9 12]\n",
      " [ 6  9 12 15 18]]\n"
     ]
    }
   ],
   "source": [
    "#sum of arr1 and arr2 using transposed array\n",
    "arr2_transpose = np.transpose(arr2)\n",
    "arr_sum = np.add(arr1, arr2_transpose)\n",
    "print(arr_sum)\n",
    "\n",
    "#alternate way\n",
    "arr_sum1 = arr1 + arr2.transpose()\n",
    "print (arr_sum1)"
   ]
  },
  {
   "cell_type": "code",
   "execution_count": 373,
   "id": "46af2192",
   "metadata": {},
   "outputs": [
    {
     "name": "stdout",
     "output_type": "stream",
     "text": [
      "[[ 0  6]\n",
      " [ 3  9]\n",
      " [ 6 12]\n",
      " [ 9 15]\n",
      " [12 18]]\n"
     ]
    }
   ],
   "source": [
    "#use swapaxes() to swap the axes of the array\n",
    "arr_sum_swap = np.swapaxes(arr_sum, 0,1)\n",
    "print(arr_sum_swap)"
   ]
  },
  {
   "cell_type": "code",
   "execution_count": 381,
   "id": "98c99e84",
   "metadata": {},
   "outputs": [
    {
     "data": {
      "text/plain": [
       "array([0, 6])"
      ]
     },
     "execution_count": 381,
     "metadata": {},
     "output_type": "execute_result"
    }
   ],
   "source": [
    "#slice row oneof array\n",
    "arr_slice = arr_sum_swap[0,0:]\n",
    "arr_slice"
   ]
  },
  {
   "cell_type": "code",
   "execution_count": 384,
   "id": "8e62ca3d",
   "metadata": {},
   "outputs": [],
   "source": [
    "#create annotated heatmap of data from separate lists, xaxis = players and yaxis = teams\n",
    "players = ['Robin', 'Leo', 'Pogba', 'Diego', 'Ronaldo']\n",
    "teams = ['ManUTD', 'Barca', 'Juve', 'Napo', 'RMardid']\n",
    "goals = [[12,15,16,15,13],\n",
    "         [26,30,31,25,24],\n",
    "         [10,12,8,6,13],\n",
    "         [18,19,17,20,21],\n",
    "         [21,32,25,21,22]]\n",
    "\n",
    "arr1 = np.array(goals)"
   ]
  },
  {
   "cell_type": "code",
   "execution_count": 392,
   "id": "b5ad746f",
   "metadata": {},
   "outputs": [
    {
     "data": {
      "image/png": "[encoded data removed]",
      "text/plain": [
       "<Figure size 1200x800 with 2 Axes>"
      ]
     },
     "metadata": {},
     "output_type": "display_data"
    }
   ],
   "source": [
    "#plot create heatmap of goals with x-ticks = players and yticks = teams\n",
    "#alternate method for hist\n",
    "fig, ax = mpl.subplots(figsize=(12,8))\n",
    "sns.heatmap(arr1, annot = True)\n",
    "ax.set_xticks(np.arange(len(players)), labels = players)\n",
    "ax.set_yticks(np.arange(len(teams)), labels = teams)\n",
    "mpl.title(\"Goals by Player/Team\", fontsize = 20)\n",
    "mpl.show()\n",
    "\n",
    "#calculate the gradient of the data\n"
   ]
  },
  {
   "cell_type": "code",
   "execution_count": 2,
   "id": "1d915eb0",
   "metadata": {},
   "outputs": [],
   "source": [
    "### DAY 8 #####################################################################################################33"
   ]
  },
  {
   "cell_type": "code",
   "execution_count": 11,
   "id": "693a8a80",
   "metadata": {},
   "outputs": [
    {
     "name": "stdout",
     "output_type": "stream",
     "text": [
      "[10 18  9  1 11 13  1  9  7 13]\n"
     ]
    },
    {
     "data": {
      "text/plain": [
       "(9, 11, 9)"
      ]
     },
     "execution_count": 11,
     "metadata": {},
     "output_type": "execute_result"
    }
   ],
   "source": [
    "# Create 1 dim array of random integers 0 to 20 with size of 10 with seed\n",
    "rng = np.random.default_rng(seed=31)\n",
    "arr1 = rng.integers(0, 20, size=10)\n",
    "print(arr1)\n",
    "\n",
    "#slice array into subset array of 3 integers with first, second, and thrud integers being at indexes 2,4, and 7.\n",
    "arr1_sub1 = arr1[2], arr1[4], arr1[7]\n",
    "arr1_sub1"
   ]
  },
  {
   "cell_type": "code",
   "execution_count": 111,
   "id": "9e4f70d6",
   "metadata": {},
   "outputs": [
    {
     "name": "stdout",
     "output_type": "stream",
     "text": [
      "arr1: \n",
      " [[ 1  2  3  4  5]\n",
      " [ 6  7  8  9 10]\n",
      " [11 12 13 14 15]] \n",
      "\n",
      "ndim:  2 \n",
      "\n",
      "shape:  (3, 5) \n",
      "\n",
      "substring:  (3, 9, 13)\n"
     ]
    }
   ],
   "source": [
    "#create 2 dim array. chk dim and shape\n",
    "list1 = [[1, 2, 3, 4, 5], [6, 7, 8, 9, 10],\n",
    " [11, 12, 13, 14, 15]] \n",
    "arr1 = np.array(list1)\n",
    "print('arr1: \\n', arr1, '\\n')\n",
    "print('ndim: ', arr1.ndim, '\\n')\n",
    "print('shape: ', arr1.shape, '\\n')\n",
    "\n",
    "#slice numbers 3, 8, and 13\n",
    "arr1_slice = arr1[0,2], arr1[1,3], arr1[2,2]\n",
    "print('substring: ', arr1_slice)"
   ]
  },
  {
   "cell_type": "code",
   "execution_count": 121,
   "id": "5a93c274",
   "metadata": {},
   "outputs": [
    {
     "name": "stdout",
     "output_type": "stream",
     "text": [
      "arr1: \n",
      " [[[ 1  2  3  4  5]\n",
      "  [ 6  7  8  9 10]\n",
      "  [11 12 13 14 15]]] \n",
      "\n",
      "ndim:  3 \n",
      "\n",
      "shape:  (1, 3, 5) \n",
      "\n",
      "substring:  (4, 8, 15)\n"
     ]
    }
   ],
   "source": [
    "#create a 3 dim array from list1 and slice numbers 4, 8, and 15\n",
    "arr1 = np.array(list1, ndmin=3)\n",
    "print('arr1: \\n', arr1, '\\n')\n",
    "print('ndim: ', arr1.ndim, '\\n')\n",
    "print('shape: ', arr1.shape, '\\n')\n",
    "arr1_slice = arr1[0,0,3], arr1[0,1,2], arr1[0,2,4]\n",
    "print('substring: ', arr1_slice)"
   ]
  },
  {
   "cell_type": "code",
   "execution_count": 122,
   "id": "d483a3ac",
   "metadata": {},
   "outputs": [],
   "source": [
    "## DAY 9 ##############################################################################################3"
   ]
  },
  {
   "cell_type": "code",
   "execution_count": 93,
   "id": "b25a2ccf",
   "metadata": {},
   "outputs": [
    {
     "name": "stdout",
     "output_type": "stream",
     "text": [
      "array:   [12  4  6  7  9 19 21 67  8]\n",
      "min:  4\n",
      "max:  67\n",
      "Index of max:  7\n",
      "mean of min and max:  35.5\n",
      "mean of array:  17.0\n",
      "median of array:  9.0\n",
      "standard deviation:  18.5\n",
      "outlier:  [67] \n",
      "\n",
      "sorted array:  [ 4  6  7  8  9 12 19 21 67]\n",
      "alternate method outlier:  [67]\n"
     ]
    }
   ],
   "source": [
    "#Analyize data from list\n",
    "list1 = [12, 4, 6, 7, 9, 19, 21, 67, 8]\n",
    "arr1 = np.array(list1)\n",
    "print('array:  ', arr1)\n",
    "\n",
    "#minimum value\n",
    "min = np.min(arr1)\n",
    "print('min: ', min)\n",
    "\n",
    "#Maximum value\n",
    "max = np.max(arr1)\n",
    "print('max: ', max)\n",
    "\n",
    "#INDEX of Max value\n",
    "print('Index of max: ', np.argmax(arr1))\n",
    "\n",
    "#mean of min and max values\n",
    "arr1_mean = min,max\n",
    "mean_minmax = np.mean(arr1_mean)\n",
    "print('mean of min and max: ', mean_minmax)\n",
    "\n",
    "#mean of array\n",
    "mean = np.mean(arr1)\n",
    "print('mean of array: ', mean)\n",
    "\n",
    "#meadian of array\n",
    "median = np.median(arr1)\n",
    "print('median of array: ', median)\n",
    "\n",
    "std_dev = np.std(arr1)\n",
    "print('standard deviation: ', round(std_dev, 2))\n",
    "\n",
    "#find outlier in arr1\n",
    "def find_outlier(data):\n",
    "    outlier = []\n",
    "    threshold = 1.5\n",
    "    mean_def = np.mean(data)\n",
    "    std_def = np.std(data)\n",
    "    for i in data:\n",
    "        z_score = (i - mean_def) / std_def\n",
    "        if z_score > threshold:\n",
    "            outlier.append(i)\n",
    "    return outlier\n",
    "\n",
    "outlier_final = find_outlier(arr1)\n",
    "\n",
    "print('outlier: ', outlier_final, '\\n')\n",
    "\n",
    "#alternate way\n",
    "sorted_array = np.sort(arr1)\n",
    "print('sorted array: ', sorted_array)\n",
    "\n",
    "def calc_outlier(data):\n",
    "    Q_low = np.percentile(data, 25)\n",
    "    Q_high = np.percentile(data, 75)\n",
    "    IQR = Q_high - Q_low\n",
    "    outlier_low = Q_low - 1.5 * IQR\n",
    "    outlier_high = Q_high + 1.5 * IQR\n",
    "    outliers = [x for x in sorted_array if x < outlier_low or x > outlier_high]\n",
    "    return outliers\n",
    "\n",
    "print('alternate method outlier: ', calc_outlier(sorted_array))\n"
   ]
  },
  {
   "cell_type": "code",
   "execution_count": 166,
   "id": "d10d41c8",
   "metadata": {},
   "outputs": [],
   "source": [
    "### Day 10 arange and boolean index #############################################################################"
   ]
  },
  {
   "cell_type": "code",
   "execution_count": 7,
   "id": "48b9b896",
   "metadata": {},
   "outputs": [
    {
     "name": "stdout",
     "output_type": "stream",
     "text": [
      "arr1:  [ 0  5 10 15 20 25 30 35 40 45] \n",
      "\n",
      "ar1 > 25:  [30 35 40 45]\n",
      "arr1 > 25 [30 35 40 45]\n"
     ]
    }
   ],
   "source": [
    "#create array from 50 with start at 0 and step of 5\n",
    "arr1 = np.arange(0, 50, 5)\n",
    "print('arr1: ', arr1, '\\n')\n",
    "\n",
    "#find values > 25\n",
    "arr1_25 = arr1 > 25\n",
    "print('ar1 > 25: ', arr1[arr1_25])\n",
    "\n",
    "#alternate way values > 25\n",
    "print('arr1 > 25', arr1[np.where(arr1_25)])\n",
    "\n"
   ]
  },
  {
   "cell_type": "code",
   "execution_count": 49,
   "id": "f2d0dc9c",
   "metadata": {},
   "outputs": [
    {
     "name": "stdout",
     "output_type": "stream",
     "text": [
      "Day 'with highest hours worked: thu\n"
     ]
    }
   ],
   "source": [
    "#find days with hours worked = 8\n",
    "days = [\"mon\", \"tue\", \"wed\", \"thu\", \"Fri\"]\n",
    "hours_worked = [ 8, 8, 10, 11, 7]\n",
    "\n",
    "arr_days = np.array(days)\n",
    "arr_hours_worked = np.array(hours_worked)\n",
    "\n",
    "days_8hrs = arr_days[arr_hours_worked == 8]\n",
    "days_8hrs\n",
    "\n",
    "index_highest = np.argmax(hours_worked)\n",
    "index_highest\n",
    "\n",
    "days_highest = days[index_highest]\n",
    "print(f'Day with highest hours worked: {days_highest}')"
   ]
  },
  {
   "cell_type": "code",
   "execution_count": 96,
   "id": "c66170ea",
   "metadata": {},
   "outputs": [
    {
     "name": "stdout",
     "output_type": "stream",
     "text": [
      "Day's worked greater than 9 hours: wed, thu"
     ]
    }
   ],
   "source": [
    "#find days of week where hours_worked > 9\n",
    "days_9plus = arr_days[arr_hours_worked > 9]\n",
    "print('Day\\'s worked greater than 9 hours: ', end='')\n",
    "j = 0\n",
    "for i in days_9plus:\n",
    "    j=j+1\n",
    "    print(i, end='')\n",
    "    if (j < len(days_9plus)):\n",
    "        print(', ', end='')"
   ]
  },
  {
   "cell_type": "code",
   "execution_count": 74,
   "id": "21647fc3",
   "metadata": {},
   "outputs": [],
   "source": [
    "### DAY 11 Preprocessing, Anaylsis, and Visualization ################################################################################################"
   ]
  },
  {
   "cell_type": "code",
   "execution_count": 4,
   "id": "11771101",
   "metadata": {},
   "outputs": [
    {
     "name": "stdout",
     "output_type": "stream",
     "text": [
      "2\n"
     ]
    }
   ],
   "source": [
    "#create an array and return the number on non-numeric elements\n",
    "list1 = [\"34\", \"name\", \"45\", \"is\", \"100\"]\n",
    "\n",
    "arr1 = np.array(list1)\n",
    "\n",
    "non_numeric = list(filter(lambda x: not np.char.isnumeric(x), arr1))\n",
    "count = len(non_numeric)\n",
    "print(count)"
   ]
  },
  {
   "cell_type": "code",
   "execution_count": 23,
   "id": "7a526dd2",
   "metadata": {},
   "outputs": [
    {
     "name": "stdout",
     "output_type": "stream",
     "text": [
      "Numeric elements:  ['34', '45', '100']\n",
      "Sum:  179\n"
     ]
    }
   ],
   "source": [
    "#sum all numeric elements in list1\n",
    "numeric = list(filter(lambda x: np.char.isnumeric(x), arr1))\n",
    "print('Numeric elements: ',numeric)\n",
    "num_elements = np.sum(numeric, dtype=np.int32)\n",
    "print('Sum: ', num_elements)"
   ]
  },
  {
   "cell_type": "code",
   "execution_count": 40,
   "id": "76db0b91",
   "metadata": {},
   "outputs": [
    {
     "name": "stdout",
     "output_type": "stream",
     "text": [
      "[ 1156  2025 10000]\n"
     ]
    }
   ],
   "source": [
    "#create an array of squares of all elemnts in numeric\n",
    "arr2 = np.array(numeric, dtype=int)\n",
    "num_squares = np.power(arr2, 2)\n",
    "print(num_squares)"
   ]
  },
  {
   "cell_type": "code",
   "execution_count": 97,
   "id": "f0c038e3",
   "metadata": {},
   "outputs": [
    {
     "name": "stdout",
     "output_type": "stream",
     "text": [
      "Count of student_id:  10\n",
      "Count of attendance elements:  10\n",
      "Count of final_exam_score:  10 \n",
      "\n",
      "The outlier from the plot is the final exam score of (56,) with attendance of (95,).\n"
     ]
    },
    {
     "data": {
      "image/png": "[encoded data removed]",
      "text/plain": [
       "<Figure size 1000x700 with 1 Axes>"
      ]
     },
     "metadata": {},
     "output_type": "display_data"
    }
   ],
   "source": [
    "#import LocalOutlierFactor for ourlier detection using angular outlier detection\n",
    "from numpy import where\n",
    "from sklearn.neighbors import LocalOutlierFactor\n",
    "\n",
    "def merge_lists(list_one, list_two):\n",
    "    merge = list(zip(list_one, list_two))\n",
    "    return merge\n",
    "\n",
    "def unpacked_list(list):\n",
    "    list_x, list_y = zip(*list)\n",
    "    return list_x, list_y\n",
    "\n",
    "#create a scatter plot of data from lists\n",
    "student_id = np.arange(1,11,1)\n",
    "print('Count of student_id: ',np.size(student_id))\n",
    "attendance = [85, 92, 70, 95, 80, 60, 90, 75, 65, 100]\n",
    "print('Count of attendance elements: ', np.size(attendance))\n",
    "final_exam_score = [80, 89, 65, 56, 66, 50, 85, 70, 55, 100]\n",
    "print('Count of final_exam_score: ', np.size(final_exam_score), '\\n')\n",
    "\n",
    "#create merged array for y_preditction in LOF\n",
    "merged_list = merge_lists(final_exam_score, attendance)\n",
    "merged_array = np.array(merged_list, dtype=np.int32)\n",
    "\n",
    "#create outlier detection using lof\n",
    "lof = LocalOutlierFactor(n_neighbors=3)\n",
    "y_prediction = lof.fit_predict(merged_array)\n",
    "lofs_index = where(y_prediction == -1)\n",
    "values = merged_array[lofs_index]\n",
    "\n",
    "#unpack zipped values to create plot list for outlier(s)\n",
    "list_x, list_y = unpacked_list(values)\n",
    "\n",
    "#create plot\n",
    "fig = mpl.figure(figsize = (10,7))\n",
    "ax = fig.add_subplot()\n",
    "ax.scatter(final_exam_score,\n",
    "           attendance,\n",
    "           color = 'purple')\n",
    "#replace color of outlier\n",
    "ax.scatter(list_x, list_y, color = 'red',linewidths=5)\n",
    "ax.legend(['Norm', 'Outlier'], loc = 'lower right')\n",
    "\n",
    "#calulate equation for trend line\n",
    "trend_eq = np.polyfit(final_exam_score, attendance, 1)\n",
    "p = np.poly1d(trend_eq)\n",
    "#plot trend line\n",
    "mpl.plot((final_exam_score), p(final_exam_score), color = 'orange', linewidth = 2, linestyle = '-')\n",
    "mpl.show\n",
    "\n",
    "#create labels for plot\n",
    "mpl.title('Final Exam Score vs Attendance', fontsize = 20)\n",
    "mpl.xlabel('Final Exam Score')\n",
    "mpl.ylabel('Attendance')\n",
    "\n",
    "#find final score of outlier\n",
    "if len(list_x) > 1:\n",
    "    print(f'The outliers from the plot is the final exam score of {list_x} with attendance of {list_y} respectively.')\n",
    "else:\n",
    "    print(f'The outlier from the plot is the final exam score of {list_x} with attendance of {list_y}.')"
   ]
  },
  {
   "cell_type": "code",
   "execution_count": null,
   "id": "559d2eac",
   "metadata": {},
   "outputs": [],
   "source": [
    "### DAY 12 Array Sorting and Filtering #############################################################################################################"
   ]
  },
  {
   "cell_type": "code",
   "execution_count": 263,
   "id": "4ce7efcb",
   "metadata": {},
   "outputs": [
    {
     "name": "stdout",
     "output_type": "stream",
     "text": [
      "arr1: \n",
      " [[12 34 56]\n",
      " [12 13  8]\n",
      " [ 6  5 10]]\n",
      "column_sort: \n",
      " [[ 6  5 10]\n",
      " [12 34 56]\n",
      " [12 13  8]]\n",
      "column_sort: \n",
      " [ 5 13 34]\n",
      "row sort: \n",
      " [[ 6  5 10]\n",
      " [12 13  8]\n",
      " [12 34 56]]\n",
      "column alt: \n",
      " [[ 6  5  8]\n",
      " [12 13 10]\n",
      " [12 34 56]]\n",
      "row alt: \n",
      " [[12 34 56]\n",
      " [ 8 12 13]\n",
      " [ 5  6 10]]\n",
      "no axis: \n",
      " [ 5  6  8 10 12 12 13 34 56]\n",
      "sliced array: \n",
      " [ 8 12 56]\n"
     ]
    }
   ],
   "source": [
    "#sort array based on column and then row\n",
    "\n",
    "#create array\n",
    "list1 = [[12, 34, 56], [12, 13, 8,], [6, 5, 10]]\n",
    "arr1 = np.array(list1)\n",
    "print('arr1: \\n', arr1)\n",
    "\n",
    "#sort by column without disrupting rows \n",
    "column_sort = arr1[arr1[:,0].argsort()]\n",
    "print('column_sort: \\n',column_sort)\n",
    "\n",
    "#sort by just one column\n",
    "column_sort = arr1[arr1[:,1].argsort(), 1]\n",
    "print('column_sort: \\n',column_sort)\n",
    "\n",
    "#sort by row without disrupting columns\n",
    "row_sort = arr1[arr1[:,1].argsort()]\n",
    "print('row sort: \\n', row_sort)\n",
    "\n",
    "#alternate way to sort by column\n",
    "column_alt = np.sort(arr1, axis = 0) #axis 1 is defalut as well\n",
    "print('column alt: \\n', column_alt)\n",
    "\n",
    "#sort by row\n",
    "row_alt = np.sort(arr1, axis = 1)\n",
    "print('row alt: \\n', row_alt)\n",
    "\n",
    "#sort with no axis\n",
    "sort_no_axis = np.sort(arr1, axis = None)\n",
    "print('no axis: \\n', sort_no_axis)\n",
    "\n",
    "#slice and create array of the following values fro sorted array (column_alt)\n",
    "sliced_array = np.array([column_alt[0][2],\n",
    "                        column_alt[1][0],\n",
    "                        column_alt[2][2]])\n",
    "print('sliced array: \\n', sliced_array)\n"
   ]
  },
  {
   "cell_type": "code",
   "execution_count": 264,
   "id": "d8b45657",
   "metadata": {},
   "outputs": [
    {
     "name": "stdout",
     "output_type": "stream",
     "text": [
      "arr2: \n",
      " [[ -5   2  51]\n",
      " [ 91 -93 -72]\n",
      " [ 65  90 -50]] \n",
      "\n",
      "arr2 w/zeros: \n",
      " [[ 0  2 51]\n",
      " [91  0  0]\n",
      " [65 90  0]]\n",
      "alt way: \n",
      " [[ 0  2 51]\n",
      " [91  0  0]\n",
      " [65 90  0]]\n"
     ]
    }
   ],
   "source": [
    "#create array or random int from -100 to 100\n",
    "rng = np.random.default_rng(seed = 1)\n",
    "\n",
    "arr2 = rng.integers(low = -100, high = 101, size = (3,3))\n",
    "print('arr2: \\n', arr2, '\\n')\n",
    "\n",
    "#replace all negative values with '0'\n",
    "neg_val = arr2 < 0\n",
    "arr2[np.where(neg_val)] = 0\n",
    "print('arr2 w/zeros: \\n', arr2)\n",
    "\n",
    "#alternate way\n",
    "arr2 = np.where(arr2 < 0, 0, arr2)\n",
    "print('alt way: \\n', arr2)\n",
    "\n"
   ]
  },
  {
   "cell_type": "code",
   "execution_count": 266,
   "id": "6e74fc51",
   "metadata": {},
   "outputs": [
    {
     "name": "stdout",
     "output_type": "stream",
     "text": [
      "unique values: \n",
      " [12 13 20 21 23 34]\n",
      "unique count: \n",
      " [1 2 1 1 1 2]\n"
     ]
    },
    {
     "data": {
      "text/plain": [
       "array([12, 23, 34, 34, 13, 13, 20, 21])"
      ]
     },
     "execution_count": 266,
     "metadata": {},
     "output_type": "execute_result"
    }
   ],
   "source": [
    "#create arry from list, count unique values, and flatten the list\n",
    "list1 = [[12, 23, 34, 34], [13, 13, 20, 21]]\n",
    "\n",
    "arr3 = np.array(list1)\n",
    "\n",
    "unique_values, unique_count = np.unique(arr3, return_counts=True)\n",
    "print('unique values: \\n', unique_values)\n",
    "print('unique count: \\n', unique_count)\n",
    "\n",
    "flat_arr3 = arr3.flatten()\n",
    "flat_arr3\n"
   ]
  },
  {
   "cell_type": "code",
   "execution_count": 157,
   "id": "2fd2907b",
   "metadata": {},
   "outputs": [],
   "source": [
    "### DAY 13 Slicing and Analyzing Arrays ############################################################################################"
   ]
  },
  {
   "cell_type": "code",
   "execution_count": 267,
   "id": "f974351a",
   "metadata": {},
   "outputs": [
    {
     "data": {
      "text/plain": [
       "array([['John', '21', 'm'],\n",
       "       ['Kelly', '21', 'f'],\n",
       "       ['Jos', '56', 'm'],\n",
       "       ['Peter', '44', 'm'],\n",
       "       ['Robert', '56', 'm'],\n",
       "       ['Piper', '96', 'f']], dtype='<U11')"
      ]
     },
     "execution_count": 267,
     "metadata": {},
     "output_type": "execute_result"
    }
   ],
   "source": [
    "#create an array and transpose\n",
    "names = ['John', 'Kelly', 'Jos', 'Peter', 'Robert', 'Piper']\n",
    "age = [21, 21, 56, 44, 56, 96]\n",
    "gender = ['m', 'f', 'm', 'm', 'm', 'f']\n",
    "\n",
    "arr1 =  np.array([names, age, gender]).transpose()\n",
    "arr1"
   ]
  },
  {
   "cell_type": "code",
   "execution_count": 268,
   "id": "b6f3d2e5",
   "metadata": {},
   "outputs": [
    {
     "data": {
      "text/plain": [
       "array(['Piper', '96', 'f'], dtype='<U11')"
      ]
     },
     "execution_count": 268,
     "metadata": {},
     "output_type": "execute_result"
    }
   ],
   "source": [
    "#return last row of the above array\n",
    "arr1[-1]"
   ]
  },
  {
   "cell_type": "code",
   "execution_count": 269,
   "id": "0da3b757",
   "metadata": {},
   "outputs": [
    {
     "data": {
      "text/plain": [
       "array([['John', '21', 'm'],\n",
       "       ['Kelly', '21', 'f']], dtype='<U11')"
      ]
     },
     "execution_count": 269,
     "metadata": {},
     "output_type": "execute_result"
    }
   ],
   "source": [
    "#return first 2 rows of the array\n",
    "arr1[:2]"
   ]
  },
  {
   "cell_type": "code",
   "execution_count": 329,
   "id": "274e2f8a",
   "metadata": {},
   "outputs": [
    {
     "name": "stdout",
     "output_type": "stream",
     "text": [
      "Peter's age:  44\n"
     ]
    }
   ],
   "source": [
    "#return age of Peter\n",
    "print('Peter\\'s age: ', arr1[3,1])"
   ]
  },
  {
   "cell_type": "code",
   "execution_count": 275,
   "id": "4e6b728d",
   "metadata": {},
   "outputs": [
    {
     "data": {
      "text/plain": [
       "\"['21' 'f']\""
      ]
     },
     "execution_count": 275,
     "metadata": {},
     "output_type": "execute_result"
    }
   ],
   "source": [
    "#return age and gender of Kelly\n",
    "str(arr1[1,1:3])"
   ]
  },
  {
   "cell_type": "code",
   "execution_count": 281,
   "id": "ea9f46a0",
   "metadata": {},
   "outputs": [
    {
     "data": {
      "text/plain": [
       "<function matplotlib.pyplot.show(close=None, block=None)>"
      ]
     },
     "execution_count": 281,
     "metadata": {},
     "output_type": "execute_result"
    },
    {
     "data": {
      "image/png": "[encoded data removed]",
      "text/plain": [
       "<Figure size 1000x700 with 1 Axes>"
      ]
     },
     "metadata": {},
     "output_type": "display_data"
    }
   ],
   "source": [
    "#plot histogram of ages\n",
    "\n",
    "#slice of ages\n",
    "ages_array = arr1[:,1]\n",
    "\n",
    "#histogram\n",
    "mpl.figure(figsize = (10,7))\n",
    "mpl.hist(ages_array)\n",
    "mpl.title(\"Histogram of Ages\", fontsize = '20')\n",
    "mpl.xlabel('Ages')\n",
    "mpl.ylabel('Record Count')\n",
    "mpl.yticks(np.arange(0,3, step = 1))\n",
    "\n",
    "mpl.show"
   ]
  },
  {
   "cell_type": "code",
   "execution_count": 282,
   "id": "b8942410",
   "metadata": {},
   "outputs": [],
   "source": [
    "### Day 14 Analyze Data with numpy part 1 #########################################################################"
   ]
  },
  {
   "cell_type": "code",
   "execution_count": 339,
   "id": "3c08e0fe",
   "metadata": {},
   "outputs": [
    {
     "data": {
      "text/plain": [
       "array([['Kelly', 'Ben', 'Jack', 'Muhammad', 'Jose', 'Liz'],\n",
       "       ['45', '65', '75', '35', '85', '40'],\n",
       "       ['algebra', 'calculus', 'english', 'gardening', 'english',\n",
       "        'french']], dtype='<U11')"
      ]
     },
     "execution_count": 339,
     "metadata": {},
     "output_type": "execute_result"
    }
   ],
   "source": [
    "#create array from lists\n",
    "names = ['Kelly', 'Ben', 'Jack', 'Muhammad', 'Jose', 'Liz']\n",
    "grades = [45, 65, 75, 35, 85, 40]\n",
    "classes = ['algebra', 'calculus', 'english', 'gardening', 'english', 'french']\n",
    "\n",
    "school_array = np.array([names, grades, classes])\n",
    "school_array"
   ]
  },
  {
   "cell_type": "code",
   "execution_count": 367,
   "id": "cf497bb2",
   "metadata": {},
   "outputs": [
    {
     "name": "stdout",
     "output_type": "stream",
     "text": [
      "Names of english students with grades over 50: ['Jack' 'Jose']\n",
      "The number of English students with grades over 50 are: 2\n"
     ]
    }
   ],
   "source": [
    "#return all names and number of students from class = english where grade > 50\n",
    "\n",
    "\n",
    "#slice array\n",
    "names = school_array[0]\n",
    "\n",
    "grades = school_array[1].astype(int)\n",
    "\n",
    "classes = school_array[2]\n",
    "\n",
    "#return indexes of records\n",
    "indices = np.where((classes == 'english') & (grades > 50))\n",
    "\n",
    "#return names\n",
    "eng_names_over50 = names[indices]\n",
    "print(f'Names of english students with grades over 50: {eng_names_over50}')\n",
    "\n",
    "#return count of records\n",
    "eng_count_over50 = len(names[indices])\n",
    "print(f'The number of English students with grades over 50 are: {eng_count_over50}')\n",
    "\n"
   ]
  },
  {
   "cell_type": "code",
   "execution_count": 386,
   "id": "8851d61d",
   "metadata": {},
   "outputs": [
    {
     "name": "stdout",
     "output_type": "stream",
     "text": [
      "The students with grades less than 75 are: ['Kelly' 'Ben' 'Muhammad' 'Liz']\n"
     ]
    },
    {
     "data": {
      "text/plain": [
       "array(['Kelly', 'Ben', 'Muhammad', 'Liz'], dtype='<U11')"
      ]
     },
     "execution_count": 386,
     "metadata": {},
     "output_type": "execute_result"
    }
   ],
   "source": [
    "#return students with grades < 75\n",
    "indices2 = np.where(grades < 75)\n",
    "\n",
    "grades_over75 = names[indices2]\n",
    "print(f'The students with grades less than 75 are: {grades_over75}')\n",
    "\n",
    "#using boolean indexing\n",
    "grades_over75_alt = names[grades < 75]\n",
    "grades_over75_alt"
   ]
  },
  {
   "cell_type": "code",
   "execution_count": 374,
   "id": "a5247e36",
   "metadata": {},
   "outputs": [
    {
     "name": "stdout",
     "output_type": "stream",
     "text": [
      "Liz recieved grades in 1 classes.\n"
     ]
    }
   ],
   "source": [
    "#return number of grades for name == 'Liz'\n",
    "indices3 = np.where(names == 'Liz')\n",
    "\n",
    "grades_liz = len(indices3)\n",
    "print(f'Liz recieved grades in {grades_liz} classes.')"
   ]
  },
  {
   "cell_type": "code",
   "execution_count": 395,
   "id": "125cd0a0",
   "metadata": {},
   "outputs": [
    {
     "name": "stdout",
     "output_type": "stream",
     "text": [
      "The student who got the highest grade is Jose.\n"
     ]
    }
   ],
   "source": [
    "#return student with highest grade\n",
    "indices4 = np.where(grades == max(grades))\n",
    "\n",
    "#alt way using argmax\n",
    "indices4 = np.argmax(grades)\n",
    "\n",
    "name_highest_grade = names[indices4]\n",
    "print(f'The student who got the highest grade is {name_highest_grade}.')"
   ]
  },
  {
   "cell_type": "code",
   "execution_count": 410,
   "id": "f13bb5db",
   "metadata": {},
   "outputs": [
    {
     "name": "stdout",
     "output_type": "stream",
     "text": [
      "The longest name is Muhammad. It is located at index 3.\n"
     ]
    }
   ],
   "source": [
    "#return longest name in array\n",
    "name_length_index = np.array(np.char.str_len(names))\n",
    "name_length_max = np.argmax(name_length_index)\n",
    "longest_name = names[name_length_max]\n",
    "print(f'The longest name is {longest_name}. It is located at index {name_length_max}.')"
   ]
  },
  {
   "cell_type": "code",
   "execution_count": 1,
   "id": "36042c83",
   "metadata": {},
   "outputs": [],
   "source": [
    "### Day 15 Analyze data with numpy part 2 ############################################################################"
   ]
  },
  {
   "cell_type": "code",
   "execution_count": 52,
   "id": "e117f660",
   "metadata": {},
   "outputs": [
    {
     "name": "stdout",
     "output_type": "stream",
     "text": [
      "[['Grace' 'Charlie' 'Olivia' 'Frank' 'Charlie' 'Olivia' 'Mia' 'Jos'\n",
      "  'Peter' 'Olivia' 'Charlie' 'David' 'Kate' 'Thomas' 'Alice' 'Rob'\n",
      "  'Piper' 'Kate' 'Liam' 'Quinn' 'Charlie' 'David' 'Ryan' 'Kate' 'John'\n",
      "  'kelly']\n",
      " ['Male' 'Female' 'Female' 'Male' 'Male' 'Male' 'Female' 'Male' 'Male'\n",
      "  'Female' 'Female' 'Female' 'Female' 'Female' 'Female' 'Male' 'Female'\n",
      "  'Female' 'Female' 'Female' 'Male' 'Male' 'Female' 'Male' 'Male'\n",
      "  'Female']\n",
      " ['18' '60' '27' '55' '53' '39' '60' '56' '44' '57' '41' '39' '49' '37'\n",
      "  '63' '56' '96' '41' '19' '34' '54' '18' '49' '19' '21' '21']]\n"
     ]
    }
   ],
   "source": [
    "#import csv: names_age_sex_data using np.genfromtxt()\n",
    "arr1 = np.genfromtxt('C:\\DataSets\\Datasets_50_Days_of_Data_Analysis_with_Python\\\\names_age_sex_data.csv', skip_header=1, delimiter=',', dtype= 'U7')\n",
    "#transpose array\n",
    "arr1_transpose = arr1.transpose()\n",
    "print(arr1_transpose)\n",
    "#slice array by field name\n",
    "name = arr1_transpose[0]\n",
    "sex = arr1_transpose[1]\n",
    "age = arr1_transpose[2].astype(int)"
   ]
  },
  {
   "cell_type": "code",
   "execution_count": 54,
   "id": "c4265158",
   "metadata": {},
   "outputs": [
    {
     "data": {
      "text/plain": [
       "array(['Jos', 'Rob'], dtype='<U7')"
      ]
     },
     "execution_count": 54,
     "metadata": {},
     "output_type": "execute_result"
    }
   ],
   "source": [
    "#return names of all people where age = 56\n",
    "name_age56 = name[age == 56]\n",
    "name_age56"
   ]
  },
  {
   "cell_type": "code",
   "execution_count": 55,
   "id": "7be0f134",
   "metadata": {},
   "outputs": [
    {
     "data": {
      "text/plain": [
       "14"
      ]
     },
     "execution_count": 55,
     "metadata": {},
     "output_type": "execute_result"
    }
   ],
   "source": [
    "# return count of people age 44 or less\n",
    "name_age_44_orless = len(name[age <= 44])\n",
    "name_age_44_orless"
   ]
  },
  {
   "cell_type": "code",
   "execution_count": 56,
   "id": "d03c3b5a",
   "metadata": {},
   "outputs": [
    {
     "name": "stdout",
     "output_type": "stream",
     "text": [
      "Names with male gender: \n",
      " ['Grace' 'Frank' 'Charlie' 'Olivia' 'Jos' 'Peter' 'Rob' 'Charlie' 'David'\n",
      " 'Kate' 'John']\n",
      "Count of males: \n",
      " 11\n"
     ]
    }
   ],
   "source": [
    "#return names and count of all males in dataset\n",
    "name_male = name[sex == 'Male']\n",
    "print('Names with male gender: \\n', name_male)\n",
    "\n",
    "count_male = len(name_male)\n",
    "print('Count of males: \\n', count_male)"
   ]
  },
  {
   "cell_type": "code",
   "execution_count": 58,
   "id": "da9c9395",
   "metadata": {},
   "outputs": [
    {
     "data": {
      "text/plain": [
       "46.2"
      ]
     },
     "execution_count": 58,
     "metadata": {},
     "output_type": "execute_result"
    }
   ],
   "source": [
    "avg_age_female = np.average(age[sex == 'Female'])\n",
    "avg_age_female"
   ]
  },
  {
   "cell_type": "code",
   "execution_count": 79,
   "id": "715e2bf1",
   "metadata": {},
   "outputs": [
    {
     "name": "stdout",
     "output_type": "stream",
     "text": [
      " 38.67\n"
     ]
    }
   ],
   "source": [
    "avg_age_Olivia_Kate = np.average(age[((name == 'Olivia') | (name == 'Kate'))])\n",
    "print(f'{avg_age_Olivia_Kate : .2f}')"
   ]
  },
  {
   "cell_type": "code",
   "execution_count": null,
   "id": "860f04bf",
   "metadata": {},
   "outputs": [],
   "source": [
    "### DAY 16 Pandas Series Analysis ####################################################################################"
   ]
  },
  {
   "cell_type": "code",
   "execution_count": 124,
   "id": "53a416ca",
   "metadata": {},
   "outputs": [
    {
     "data": {
      "text/plain": [
       "0     wood\n",
       "1      red\n",
       "2      red\n",
       "3    white\n",
       "4     blue\n",
       "5      red\n",
       "dtype: object"
      ]
     },
     "execution_count": 124,
     "metadata": {},
     "output_type": "execute_result"
    }
   ],
   "source": [
    "#create pandas df from list\n",
    "list = ['wood', 'red', 'red', 'white', 'blue', 'red']\n",
    "\n",
    "names = pd.Series(list)\n",
    "names"
   ]
  },
  {
   "cell_type": "code",
   "execution_count": 126,
   "id": "8b6ef64e",
   "metadata": {},
   "outputs": [
    {
     "data": {
      "text/plain": [
       "red      3\n",
       "wood     1\n",
       "white    1\n",
       "blue     1\n",
       "dtype: int64"
      ]
     },
     "execution_count": 126,
     "metadata": {},
     "output_type": "execute_result"
    }
   ],
   "source": [
    "#return hpw many of each name in df\n",
    "pd.value_counts(names)\n",
    "\n",
    "#alt way\n",
    "names.value_counts()"
   ]
  },
  {
   "cell_type": "code",
   "execution_count": 129,
   "id": "fe2f2ab3",
   "metadata": {},
   "outputs": [
    {
     "data": {
      "text/plain": [
       "0    False\n",
       "1     True\n",
       "2     True\n",
       "3     True\n",
       "4    False\n",
       "5     True\n",
       "dtype: bool"
      ]
     },
     "execution_count": 129,
     "metadata": {},
     "output_type": "execute_result"
    }
   ],
   "source": [
    "#check if 'red', 'white', pr 'black' are in the series\n",
    "color_check_list = ['red', 'white', 'black']\n",
    "color_check = names.isin(color_check_list)\n",
    "color_check"
   ]
  },
  {
   "cell_type": "code",
   "execution_count": 130,
   "id": "7c58af62",
   "metadata": {},
   "outputs": [
    {
     "data": {
      "text/plain": [
       "array(['wood', 'red', 'white', 'blue'], dtype=object)"
      ]
     },
     "execution_count": 130,
     "metadata": {},
     "output_type": "execute_result"
    }
   ],
   "source": [
    "#return all unique values\n",
    "pd.unique(names)\n",
    "\n",
    "#alt way\n",
    "names.unique()"
   ]
  },
  {
   "cell_type": "code",
   "execution_count": 140,
   "id": "4d3fc89c",
   "metadata": {},
   "outputs": [
    {
     "name": "stdout",
     "output_type": "stream",
     "text": [
      "0     green\n",
      "1       red\n",
      "2    orange\n",
      "3     white\n",
      "4      blue\n",
      "5       red\n",
      "dtype: object \n",
      "\n",
      "dimensions:  1\n"
     ]
    }
   ],
   "source": [
    "#update pd series with 'green' at index 0 and 'orange' at index 2\n",
    "names.update(pd.Series(['green', 'orange'], index = [0,2]))\n",
    "print(names, '\\n')\n",
    "\n",
    "#alt way by making dictionary of updates\n",
    "#colors = {0:'green', 2:'orange'}\n",
    "#names.update(colors)\n",
    "\n",
    "dimensions_series = names.ndim\n",
    "print('dimensions: ', dimensions_series)"
   ]
  },
  {
   "cell_type": "code",
   "execution_count": 145,
   "id": "4c04fa86",
   "metadata": {},
   "outputs": [
    {
     "name": "stdout",
     "output_type": "stream",
     "text": [
      "df: \n",
      "    Colors\n",
      "0   green\n",
      "1     red\n",
      "2  orange\n",
      "3   white\n",
      "4    blue\n",
      "5     red \n",
      "\n",
      "df_alt: \n",
      "    Colors\n",
      "0   green\n",
      "1     red\n",
      "2  orange\n",
      "3   white\n",
      "4    blue\n",
      "5     red \n",
      "\n",
      "df dimensions:  2\n",
      "df shape:  (6, 1)\n"
     ]
    }
   ],
   "source": [
    "#create df from series\n",
    "df = pd.DataFrame(data = names, columns = ['Colors'])\n",
    "print('df: \\n', df, '\\n')\n",
    "\n",
    "#alt way\n",
    "df_alt = names.to_frame('Colors')\n",
    "print('df_alt: \\n', df_alt, '\\n')\n",
    "\n",
    "#check dimensiont\n",
    "dimensions = df.ndim\n",
    "print('df dimensions: ', dimensions)\n",
    "\n",
    "print('df shape: ', df.shape)"
   ]
  },
  {
   "cell_type": "code",
   "execution_count": null,
   "id": "4afaef31",
   "metadata": {},
   "outputs": [],
   "source": []
  }
 ],
 "metadata": {
  "kernelspec": {
   "display_name": "Python 3 (ipykernel)",
   "language": "python",
   "name": "python3"
  },
  "language_info": {
   "codemirror_mode": {
    "name": "ipython",
    "version": 3
   },
   "file_extension": ".py",
   "mimetype": "text/x-python",
   "name": "python",
   "nbconvert_exporter": "python",
   "pygments_lexer": "ipython3",
   "version": "3.11.3"
  }
 },
 "nbformat": 4,
 "nbformat_minor": 5
}
