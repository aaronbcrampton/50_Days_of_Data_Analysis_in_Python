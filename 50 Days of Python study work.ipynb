{
 "cells": [
  {
   "cell_type": "code",
   "execution_count": 2,
   "id": "beec0f84",
   "metadata": {
    "tags": []
   },
   "outputs": [],
   "source": [
    "\"\"\"\n",
    "Worksheets for 50 Days of Python study work\n",
    "Git path:  C:\\Users\\aaron\\OneDrive\\Documents\\50_Days_of_Data_Analysis_with_Python__The_Ultimate_Challenge_Book_for_Beginners\\50_Days_of_Data_Analysis_in_Python\n",
    "Commands:\n",
    "    git add . \n",
    "    git commit -m \"[comments]\"\n",
    "    git push\n",
    "\"\"\""
   ]
  },
  {
   "cell_type": "code",
   "execution_count": 3,
   "id": "5518ff7a",
   "metadata": {},
   "outputs": [],
   "source": [
    "#DAY ONE##############################################################################"
   ]
  },
  {
   "cell_type": "code",
   "execution_count": 4,
   "id": "ed993b44-b058-47bd-bac2-ee9e107c34b4",
   "metadata": {
    "tags": []
   },
   "outputs": [
    {
     "name": "stdout",
     "output_type": "stream",
     "text": [
      "Name: numpy\n",
      "Version: 1.24.3\n",
      "Summary: Fundamental package for array computing in Python\n",
      "Home-page: https://www.numpy.org\n",
      "Author: Travis E. Oliphant et al.\n",
      "Author-email: \n",
      "License: BSD-3-Clause\n",
      "Location: C:\\Users\\aaron\\anaconda3\\Lib\\site-packages\n",
      "Requires: \n",
      "Required-by: astropy, bokeh, Bottleneck, contourpy, daal4py, datashader, datashape, gensim, h5py, holoviews, hvplot, imagecodecs, imageio, imbalanced-learn, matplotlib, mkl-fft, mkl-random, numba, numexpr, pandas, patsy, pyarrow, pyerfa, PyWavelets, scikit-image, scikit-learn, scipy, seaborn, statsmodels, tables, tifffile, transformers, xarray\n",
      "Name: matplotlib\n",
      "Version: 3.7.1\n",
      "Summary: Python plotting package\n",
      "Home-page: https://matplotlib.org\n",
      "Author: John D. Hunter, Michael Droettboom\n",
      "Author-email: matplotlib-users@python.org\n",
      "License: PSF\n",
      "Location: C:\\Users\\aaron\\anaconda3\\Lib\\site-packages\n",
      "Requires: contourpy, cycler, fonttools, kiwisolver, numpy, packaging, pillow, pyparsing, python-dateutil\n",
      "Required-by: seaborn\n",
      "Name: pandas\n",
      "Version: 1.5.3\n",
      "Summary: Powerful data structures for data analysis, time series, and statistics\n",
      "Home-page: https://pandas.pydata.org\n",
      "Author: The Pandas Development Team\n",
      "Author-email: pandas-dev@python.org\n",
      "License: BSD-3-Clause\n",
      "Location: C:\\Users\\aaron\\anaconda3\\Lib\\site-packages\n",
      "Requires: numpy, numpy, python-dateutil, pytz\n",
      "Required-by: bokeh, datashader, holoviews, hvplot, panel, seaborn, statsmodels, xarray\n"
     ]
    }
   ],
   "source": [
    "#import numpy, check version\n",
    "import numpy as np\n",
    "!pip show numpy\n",
    "\n",
    "import matplotlib.pyplot as mpl\n",
    "!pip show matplotlib\n",
    "\n",
    "import pandas as pd\n",
    "!pip show pandas\n",
    "\n",
    "import random\n"
   ]
  },
  {
   "cell_type": "code",
   "execution_count": 5,
   "id": "c7f74fb9-3bbb-4084-a815-063be993292a",
   "metadata": {},
   "outputs": [
    {
     "data": {
      "text/plain": [
       "array([2, 3, 4, 6])"
      ]
     },
     "execution_count": 5,
     "metadata": {},
     "output_type": "execute_result"
    }
   ],
   "source": [
    "#create array FROM list\n",
    "list1 = [2,3,4,6]\n",
    "list1\n",
    "\n",
    "arr = np.array(list1)\n",
    "arr"
   ]
  },
  {
   "cell_type": "code",
   "execution_count": 6,
   "id": "7d5adc9a-71ba-487e-831b-d7e2fde56050",
   "metadata": {},
   "outputs": [
    {
     "data": {
      "text/plain": [
       "array([2, 3, 4, 6])"
      ]
     },
     "execution_count": 6,
     "metadata": {},
     "output_type": "execute_result"
    }
   ],
   "source": [
    "#create arrate WITH a list\n",
    "list2 = np.array([2,3,4,6])\n",
    "list2"
   ]
  },
  {
   "cell_type": "code",
   "execution_count": 7,
   "id": "ce7febf4",
   "metadata": {},
   "outputs": [
    {
     "name": "stdout",
     "output_type": "stream",
     "text": [
      "(4,)\n",
      "4\n",
      "1\n"
     ]
    }
   ],
   "source": [
    "#check shape, size and dimentions of array\n",
    "print(np.shape(arr))\n",
    "print(np.size(arr))\n",
    "print(arr.ndim)"
   ]
  },
  {
   "cell_type": "code",
   "execution_count": 8,
   "id": "bcf11cdc",
   "metadata": {},
   "outputs": [
    {
     "data": {
      "text/plain": [
       "array([6, 4, 3, 2])"
      ]
     },
     "execution_count": 8,
     "metadata": {},
     "output_type": "execute_result"
    }
   ],
   "source": [
    "#function to reverse and array (can also use 'flip')\n",
    "def reverse_array (array):\n",
    "    return array[::-1]\n",
    "\n",
    "reverse_array(arr)"
   ]
  },
  {
   "cell_type": "code",
   "execution_count": 9,
   "id": "aa8dcd10",
   "metadata": {},
   "outputs": [
    {
     "name": "stdout",
     "output_type": "stream",
     "text": [
      "8\n",
      "(2, 4)\n",
      "2\n"
     ]
    }
   ],
   "source": [
    "#create array from nested lists\n",
    "list1 = [[2,3,4,6], [8,10,12,14]]\n",
    "\n",
    "arr = np.array(list1)\n",
    "arr\n",
    "\n",
    "print(np.size(arr))\n",
    "print(np.shape(arr))\n",
    "print(arr.ndim)"
   ]
  },
  {
   "cell_type": "code",
   "execution_count": 10,
   "id": "7896d103",
   "metadata": {},
   "outputs": [
    {
     "name": "stdout",
     "output_type": "stream",
     "text": [
      "8\n",
      "(8,)\n",
      "1\n",
      "<class 'numpy.ndarray'>\n"
     ]
    }
   ],
   "source": [
    "#create an array from 2 lists\n",
    "list1, list2 = [2,3,4,5], [7,8,9,10]\n",
    "\n",
    "arr = np.concatenate((list1,list2))\n",
    "arr\n",
    "\n",
    "print(np.size(arr))\n",
    "print(np.shape(arr))\n",
    "print(arr.ndim)\n",
    "print(type(arr))"
   ]
  },
  {
   "cell_type": "code",
   "execution_count": 11,
   "id": "008ff910",
   "metadata": {},
   "outputs": [
    {
     "data": {
      "text/plain": [
       "array([[ 2,  3,  4,  5],\n",
       "       [ 7,  8,  9, 10]])"
      ]
     },
     "execution_count": 11,
     "metadata": {},
     "output_type": "execute_result"
    }
   ],
   "source": [
    "#reshape array to two dimentional arry\n",
    "dim2_array = np.reshape(arr,(2,4))\n",
    "dim2_array"
   ]
  },
  {
   "cell_type": "code",
   "execution_count": 12,
   "id": "8a2c1839",
   "metadata": {},
   "outputs": [
    {
     "name": "stdout",
     "output_type": "stream",
     "text": [
      "12\n",
      "(3, 4)\n",
      "2\n",
      "float64\n",
      "<class 'numpy.ndarray'>\n"
     ]
    }
   ],
   "source": [
    "#create 2 dim array from 3 lists\n",
    "list1 = [2, 3, 4, 6]\n",
    "list2 = [8, 10.1, 12, 14]\n",
    "list3 = [16, 18, 20, 22.1]\n",
    "\n",
    "arr = np.concatenate((list1, list2, list3))\n",
    "reshape_arr = np.reshape(arr, (3,4))\n",
    "reshape_arr\n",
    "\n",
    "print(np.size(reshape_arr))\n",
    "print(np.shape(reshape_arr))\n",
    "print(reshape_arr.ndim)\n",
    "print(reshape_arr.dtype)\n",
    "print(type(reshape_arr))"
   ]
  },
  {
   "cell_type": "code",
   "execution_count": 13,
   "id": "36327528",
   "metadata": {},
   "outputs": [],
   "source": [
    "# DAY 3 #########################################################################"
   ]
  },
  {
   "cell_type": "code",
   "execution_count": 14,
   "id": "225746be",
   "metadata": {},
   "outputs": [
    {
     "ename": "TypeError",
     "evalue": "'module' object is not callable",
     "output_type": "error",
     "traceback": [
      "\u001b[1;31m---------------------------------------------------------------------------\u001b[0m",
      "\u001b[1;31mTypeError\u001b[0m                                 Traceback (most recent call last)",
      "Cell \u001b[1;32mIn[14], line 1\u001b[0m\n\u001b[1;32m----> 1\u001b[0m arr \u001b[39m=\u001b[39m np\u001b[39m.\u001b[39mrandom(\u001b[39m0\u001b[39m,\u001b[39m50\u001b[39m)\n",
      "\u001b[1;31mTypeError\u001b[0m: 'module' object is not callable"
     ]
    }
   ],
   "source": [
    "arr = np.random(0,50)"
   ]
  },
  {
   "cell_type": "code",
   "execution_count": null,
   "id": "6b126a50",
   "metadata": {},
   "outputs": [
    {
     "data": {
      "text/plain": [
       "array([[0.62509547, 0.8972138 , 0.77568569, 0.22520719],\n",
       "       [0.30016628, 0.87355345, 0.0052653 , 0.82122842],\n",
       "       [0.79706943, 0.46793495, 0.30303243, 0.27842561]])"
      ]
     },
     "execution_count": 74,
     "metadata": {},
     "output_type": "execute_result"
    }
   ],
   "source": [
    "#create and array using random numbers (default = 0 to 1)\n",
    "rng = np.random.default_rng(seed = 7)\n",
    "\n",
    "rng.random((3,4))"
   ]
  },
  {
   "cell_type": "code",
   "execution_count": null,
   "id": "4a4c098a",
   "metadata": {},
   "outputs": [
    {
     "data": {
      "text/plain": [
       "array([[1, 1, 7, 4],\n",
       "       [5, 6, 7, 0],\n",
       "       [4, 1, 4, 9]], dtype=int64)"
      ]
     },
     "execution_count": 79,
     "metadata": {},
     "output_type": "execute_result"
    }
   ],
   "source": [
    "#create an array using random int\n",
    "rng = np.random.default_rng(seed=11)\n",
    "\n",
    "rng.integers(low = 0, high = 10, size = (3,4))"
   ]
  },
  {
   "cell_type": "code",
   "execution_count": null,
   "id": "9bdeb882",
   "metadata": {},
   "outputs": [
    {
     "data": {
      "image/png": "[encoded data removed]",
      "text/plain": [
       "<Figure size 640x480 with 1 Axes>"
      ]
     },
     "metadata": {},
     "output_type": "display_data"
    }
   ],
   "source": [
    "#create an array of 1000 random numbers with mean = 0 and var= 1\n",
    "np.random.seed(13)\n",
    "rng = np.random.normal(loc = 0, scale = 1, size = 1000)\n",
    "\n",
    "#create dataframe from array\n",
    "df = pd.DataFrame({'Values' : rng})\n",
    "df\n",
    "\n",
    "#show histogram of df\n",
    "df.plot(kind='hist')\n",
    "mpl.show()"
   ]
  },
  {
   "cell_type": "code",
   "execution_count": null,
   "id": "18b0bc1c",
   "metadata": {},
   "outputs": [
    {
     "data": {
      "text/plain": [
       "array([['Apple', 'Pear', 'Pear', 'Orange'],\n",
       "       ['Pear', 'Pear', 'Apple', 'Orange'],\n",
       "       ['Orange', 'Apple', 'Pear', 'Orange']], dtype='<U6')"
      ]
     },
     "execution_count": 129,
     "metadata": {},
     "output_type": "execute_result"
    }
   ],
   "source": [
    "#generate random array of shape (3,4) from list\n",
    "list = [ \"Orange\", \"Apple\", \"Pear\"]\n",
    "\n",
    "random.seed(17)\n",
    "arr = random.choices(list, k = 12)\n",
    "arr\n",
    "\n",
    "np.reshape(arr,(3,4))\n"
   ]
  },
  {
   "cell_type": "code",
   "execution_count": null,
   "id": "51b8752d",
   "metadata": {},
   "outputs": [],
   "source": [
    "# DAY 4 #######################################################################################"
   ]
  },
  {
   "cell_type": "code",
   "execution_count": 27,
   "id": "9237e379",
   "metadata": {},
   "outputs": [
    {
     "name": "stdout",
     "output_type": "stream",
     "text": [
      "arr1:  [[15 14 13]\n",
      " [19 13 12]] \n",
      "\n",
      "shape:  (2, 3)\n",
      "size:  6\n",
      "dim:  2\n",
      "type:  <class 'numpy.ndarray'>\n",
      "dtype:  int64 \n",
      "\n",
      "arr2:  [[18 10 14]]\n",
      "(1, 3)\n"
     ]
    }
   ],
   "source": [
    "# two arrays of random numbers between 10 and 20.  Array1 dimentions (2,3), Array2 dimentions (1,3).  Resouts reproducible.\n",
    "rng = np.random.default_rng(seed = 19)\n",
    "\n",
    "arr1 = rng.integers(low = 10, high = 20, size = (2,3))\n",
    "print('arr1: ', arr1, '\\n')\n",
    "print('shape: ', np.shape(arr1))\n",
    "print('size: ', np.size(arr1))\n",
    "print('dim: ', arr1.ndim)\n",
    "print('type: ', type(arr1))\n",
    "print('dtype: ', arr1.dtype, '\\n')\n",
    "\n",
    "arr2 = rng.integers(low = 10, high = 20, size = (1,3))\n",
    "print(\"arr2: \", arr2)\n",
    "print(np.shape(arr2))"
   ]
  },
  {
   "cell_type": "code",
   "execution_count": 31,
   "id": "879a212f",
   "metadata": {},
   "outputs": [
    {
     "name": "stdout",
     "output_type": "stream",
     "text": [
      "[[33 24 27]\n",
      " [37 23 26]] \n",
      "\n",
      "[[33 24 27]\n",
      " [37 23 26]]\n"
     ]
    }
   ],
   "source": [
    "#add arr1 and ar2 and explain shape\n",
    "print(arr1 + arr2, '\\n')\n",
    "arr_sum = np.add(arr1, arr2)\n",
    "print(arr_sum)\n"
   ]
  },
  {
   "cell_type": "markdown",
   "id": "98ef8339",
   "metadata": {},
   "source": [
    "The above array addition results in a (2,3) shape as the (1,3) array is broadcast into the other array resulting in both rows of the (2,3) array being added to the (1,3) array"
   ]
  },
  {
   "cell_type": "code",
   "execution_count": 45,
   "id": "3fd41572",
   "metadata": {},
   "outputs": [
    {
     "name": "stdout",
     "output_type": "stream",
     "text": [
      "[[15 14 13]\n",
      " [19 13 12]] \n",
      "\n",
      " [[33 24 27]\n",
      " [37 23 26]] \n",
      "\n",
      "[[15 14 13]\n",
      " [19 13 12]\n",
      " [ 0  0  0]] \n",
      "\n",
      "[[33 24 27]\n",
      " [37 23 26]\n",
      " [ 0  0  0]] \n",
      "\n",
      "[[1013  682  769]\n",
      " [1108  755  851]\n",
      " [   0    0    0]]\n"
     ]
    }
   ],
   "source": [
    "#dot operation on aar1 and ar2 cannot be done due to arrays not being squares, appended zeros to complete matrixes\n",
    "print(arr1, '\\n\\n', arr_sum, '\\n')\n",
    "arr_0 = np.array([0,0,0])\n",
    "\n",
    "arr3 = np.append(arr1, arr_0)\n",
    "arr3_3x3 = np.reshape(arr3, (3,3))\n",
    "arr4 = np.append(arr_sum, arr_0)\n",
    "arr4_3x3 = np.reshape(arr4, (3,3))\n",
    "print(arr3_3x3, '\\n')\n",
    "print(arr4_3x3, '\\n')\n",
    "print(np.dot(arr3_3x3, arr4_3x3))"
   ]
  },
  {
   "cell_type": "code",
   "execution_count": 70,
   "id": "bc11316c",
   "metadata": {},
   "outputs": [
    {
     "name": "stdout",
     "output_type": "stream",
     "text": [
      "[1 7 4 6 3 2 6 2 2 6 6 8 4 2 2 2 1 7 7 5 7 4 7 4 5 1 2 5 2 3 1 4 2 5 3 7 1\n",
      " 6 1 7 3 1 3 6 3 5 9 8 1 9 5 1 2 8 7 3 2 6 5 7 1 8 6 9 1 6 1 8 8 5 2 3 6 2\n",
      " 6 5 8 7 9 5 4 7 3 2 4 9 9 5 8 8 1 7 1 8 1 4 9 1 1 5]\n"
     ]
    },
    {
     "data": {
      "image/png": "[encoded data removed]",
      "text/plain": [
       "<Figure size 640x480 with 1 Axes>"
      ]
     },
     "metadata": {},
     "output_type": "display_data"
    },
    {
     "name": "stdout",
     "output_type": "stream",
     "text": [
      "median:  5.0\n",
      "mode:  1\n"
     ]
    }
   ],
   "source": [
    "#create 1 dim array of 100 random values range 0 to 10\n",
    "rng = np.random.default_rng(seed= 23)\n",
    "arr1 = rng.integers(low = 1, high = 10, size=100)\n",
    "print(arr1)\n",
    "df = pd.DataFrame({'Value': arr1})\n",
    "\n",
    "#historgram, median, and mode\n",
    "df.plot(kind='hist')\n",
    "mpl.show()\n",
    "\n",
    "print('median: ', np.median(arr1))\n",
    "\n",
    "from statistics import mode\n",
    "arr1_mode = mode(arr1)\n",
    "print('mode: ', arr1_mode)"
   ]
  },
  {
   "cell_type": "code",
   "execution_count": null,
   "id": "f6ebe7f0",
   "metadata": {},
   "outputs": [],
   "source": [
    "\n"
   ]
  }
 ],
 "metadata": {
  "kernelspec": {
   "display_name": "Python 3 (ipykernel)",
   "language": "python",
   "name": "python3"
  },
  "language_info": {
   "codemirror_mode": {
    "name": "ipython",
    "version": 3
   },
   "file_extension": ".py",
   "mimetype": "text/x-python",
   "name": "python",
   "nbconvert_exporter": "python",
   "pygments_lexer": "ipython3",
   "version": "3.11.3"
  }
 },
 "nbformat": 4,
 "nbformat_minor": 5
}
