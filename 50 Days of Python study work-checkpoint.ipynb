{
 "cells": [
  {
   "cell_type": "code",
   "execution_count": 2,
   "id": "beec0f84",
   "metadata": {
    "tags": []
   },
   "outputs": [],
   "source": [
    "#Worksheets for 50 Days of Python study work\n",
    "#Git path:  C:\\Users\\aaron\\OneDrive\\Documents\\50_Days_of_Data_Analysis_with_Python__The_Ultimate_Challenge_Book_for_Beginners\\50_Days_of_Data_Analysis_in_Python\n",
    "#Commands:\n",
    "#    git add . \n",
    "#    git commit -m \"[comments]\"\n",
    "#    git push"
   ]
  },
  {
   "cell_type": "code",
   "execution_count": null,
   "id": "82239984",
   "metadata": {},
   "outputs": [],
   "source": [
    "#DAY ONE##############################################################################"
   ]
  },
  {
   "cell_type": "code",
   "execution_count": 104,
   "id": "ed993b44-b058-47bd-bac2-ee9e107c34b4",
   "metadata": {
    "tags": []
   },
   "outputs": [
    {
     "name": "stdout",
     "output_type": "stream",
     "text": [
      "Name: numpy\n",
      "Version: 1.24.3\n",
      "Summary: Fundamental package for array computing in Python\n",
      "Home-page: https://www.numpy.org\n",
      "Author: Travis E. Oliphant et al.\n",
      "Author-email: \n",
      "License: BSD-3-Clause\n",
      "Location: C:\\Users\\aaron\\anaconda3\\Lib\\site-packages\n",
      "Requires: \n",
      "Required-by: astropy, bokeh, Bottleneck, contourpy, daal4py, datashader, datashape, gensim, h5py, holoviews, hvplot, imagecodecs, imageio, imbalanced-learn, matplotlib, mkl-fft, mkl-random, numba, numexpr, pandas, patsy, pyarrow, pyerfa, PyWavelets, scikit-image, scikit-learn, scipy, seaborn, statsmodels, tables, tifffile, transformers, xarray\n",
      "Name: matplotlib\n",
      "Version: 3.7.1\n",
      "Summary: Python plotting package\n",
      "Home-page: https://matplotlib.org\n",
      "Author: John D. Hunter, Michael Droettboom\n",
      "Author-email: matplotlib-users@python.org\n",
      "License: PSF\n",
      "Location: C:\\Users\\aaron\\anaconda3\\Lib\\site-packages\n",
      "Requires: contourpy, cycler, fonttools, kiwisolver, numpy, packaging, pillow, pyparsing, python-dateutil\n",
      "Required-by: seaborn\n",
      "Name: pandas\n",
      "Version: 1.5.3\n",
      "Summary: Powerful data structures for data analysis, time series, and statistics\n",
      "Home-page: https://pandas.pydata.org\n",
      "Author: The Pandas Development Team\n",
      "Author-email: pandas-dev@python.org\n",
      "License: BSD-3-Clause\n",
      "Location: C:\\Users\\aaron\\anaconda3\\Lib\\site-packages\n",
      "Requires: numpy, numpy, python-dateutil, pytz\n",
      "Required-by: bokeh, datashader, holoviews, hvplot, panel, seaborn, statsmodels, xarray\n"
     ]
    }
   ],
   "source": [
    "#import numpy, check version\n",
    "import numpy as np\n",
    "!pip show numpy\n",
    "\n",
    "import matplotlib.pyplot as mpl\n",
    "!pip show matplotlib\n",
    "\n",
    "import pandas as pd\n",
    "!pip show pandas\n"
   ]
  },
  {
   "cell_type": "code",
   "execution_count": 6,
   "id": "c7f74fb9-3bbb-4084-a815-063be993292a",
   "metadata": {},
   "outputs": [
    {
     "data": {
      "text/plain": [
       "array([2, 3, 4, 6])"
      ]
     },
     "execution_count": 6,
     "metadata": {},
     "output_type": "execute_result"
    }
   ],
   "source": [
    "#create array FROM list\n",
    "list1 = [2,3,4,6]\n",
    "list1\n",
    "\n",
    "arr = np.array(list1)\n",
    "arr"
   ]
  },
  {
   "cell_type": "code",
   "execution_count": 8,
   "id": "7d5adc9a-71ba-487e-831b-d7e2fde56050",
   "metadata": {},
   "outputs": [
    {
     "data": {
      "text/plain": [
       "array([2, 3, 4, 6])"
      ]
     },
     "execution_count": 8,
     "metadata": {},
     "output_type": "execute_result"
    }
   ],
   "source": [
    "#create arrate WITH a list\n",
    "list2 = np.array([2,3,4,6])\n",
    "list2"
   ]
  },
  {
   "cell_type": "code",
   "execution_count": 15,
   "id": "f108d434",
   "metadata": {},
   "outputs": [
    {
     "name": "stdout",
     "output_type": "stream",
     "text": [
      "(4,)\n",
      "4\n",
      "1\n"
     ]
    }
   ],
   "source": [
    "#check shape, size and dimentions of array\n",
    "print(np.shape(arr))\n",
    "print(np.size(arr))\n",
    "print(arr.ndim)"
   ]
  },
  {
   "cell_type": "code",
   "execution_count": 18,
   "id": "10c252da",
   "metadata": {},
   "outputs": [
    {
     "data": {
      "text/plain": [
       "array([6, 4, 3, 2])"
      ]
     },
     "execution_count": 18,
     "metadata": {},
     "output_type": "execute_result"
    }
   ],
   "source": [
    "#function to reverse and array (can also use 'flip')\n",
    "def reverse_array (array):\n",
    "    return array[::-1]\n",
    "\n",
    "reverse_array(arr)"
   ]
  },
  {
   "cell_type": "code",
   "execution_count": 23,
   "id": "770df99a",
   "metadata": {},
   "outputs": [
    {
     "name": "stdout",
     "output_type": "stream",
     "text": [
      "8\n",
      "(2, 4)\n",
      "2\n"
     ]
    }
   ],
   "source": [
    "#create array from nested lists\n",
    "list1 = [[2,3,4,6], [8,10,12,14]]\n",
    "\n",
    "arr = np.array(list1)\n",
    "arr\n",
    "\n",
    "print(np.size(arr))\n",
    "print(np.shape(arr))\n",
    "print(arr.ndim)"
   ]
  },
  {
   "cell_type": "code",
   "execution_count": 38,
   "id": "e6279f1c",
   "metadata": {},
   "outputs": [
    {
     "name": "stdout",
     "output_type": "stream",
     "text": [
      "8\n",
      "(8,)\n",
      "1\n",
      "<class 'numpy.ndarray'>\n"
     ]
    }
   ],
   "source": [
    "#create an array from 2 lists\n",
    "list1, list2 = [2,3,4,5], [7,8,9,10]\n",
    "\n",
    "arr = np.concatenate((list1,list2))\n",
    "arr\n",
    "\n",
    "print(np.size(arr))\n",
    "print(np.shape(arr))\n",
    "print(arr.ndim)\n",
    "print(type(arr))"
   ]
  },
  {
   "cell_type": "code",
   "execution_count": 35,
   "id": "762b5efc",
   "metadata": {},
   "outputs": [
    {
     "data": {
      "text/plain": [
       "array([[ 2,  3,  4,  5],\n",
       "       [ 7,  8,  9, 10]])"
      ]
     },
     "execution_count": 35,
     "metadata": {},
     "output_type": "execute_result"
    }
   ],
   "source": [
    "#reshape array to two dimentional arry\n",
    "dim2_array = np.reshape(arr,(2,4))\n",
    "dim2_array"
   ]
  },
  {
   "cell_type": "code",
   "execution_count": 60,
   "id": "51d88f1c",
   "metadata": {},
   "outputs": [
    {
     "name": "stdout",
     "output_type": "stream",
     "text": [
      "12\n",
      "(3, 4)\n",
      "2\n",
      "float64\n",
      "<class 'numpy.ndarray'>\n"
     ]
    }
   ],
   "source": [
    "#create 2 dim array from 3 lists\n",
    "list1 = [2, 3, 4, 6]\n",
    "list2 = [8, 10.1, 12, 14]\n",
    "list3 = [16, 18, 20, 22.1]\n",
    "\n",
    "arr = np.concatenate((list1, list2, list3))\n",
    "reshape_arr = np.reshape(arr, (3,4))\n",
    "reshape_arr\n",
    "\n",
    "print(np.size(reshape_arr))\n",
    "print(np.shape(reshape_arr))\n",
    "print(reshape_arr.ndim)\n",
    "print(reshape_arr.dtype)\n",
    "print(type(reshape_arr))"
   ]
  },
  {
   "cell_type": "code",
   "execution_count": 61,
   "id": "301b116f",
   "metadata": {},
   "outputs": [],
   "source": [
    "# DAY 3 #########################################################################"
   ]
  },
  {
   "cell_type": "code",
   "execution_count": 62,
   "id": "4a6998b7",
   "metadata": {},
   "outputs": [
    {
     "ename": "TypeError",
     "evalue": "'module' object is not callable",
     "output_type": "error",
     "traceback": [
      "\u001b[1;31m---------------------------------------------------------------------------\u001b[0m",
      "\u001b[1;31mTypeError\u001b[0m                                 Traceback (most recent call last)",
      "Cell \u001b[1;32mIn[62], line 1\u001b[0m\n\u001b[1;32m----> 1\u001b[0m arr \u001b[38;5;241m=\u001b[39m np\u001b[38;5;241m.\u001b[39mrandom(\u001b[38;5;241m0\u001b[39m,\u001b[38;5;241m50\u001b[39m)\n",
      "\u001b[1;31mTypeError\u001b[0m: 'module' object is not callable"
     ]
    }
   ],
   "source": [
    "arr = np.random(0,50)"
   ]
  },
  {
   "cell_type": "code",
   "execution_count": 74,
   "id": "7263907b",
   "metadata": {},
   "outputs": [
    {
     "data": {
      "text/plain": [
       "array([[0.62509547, 0.8972138 , 0.77568569, 0.22520719],\n",
       "       [0.30016628, 0.87355345, 0.0052653 , 0.82122842],\n",
       "       [0.79706943, 0.46793495, 0.30303243, 0.27842561]])"
      ]
     },
     "execution_count": 74,
     "metadata": {},
     "output_type": "execute_result"
    }
   ],
   "source": [
    "#create and array using random numbers (default = 0 to 1)\n",
    "rng = np.random.default_rng(seed = 7)\n",
    "\n",
    "rng.random((3,4))"
   ]
  },
  {
   "cell_type": "code",
   "execution_count": 79,
   "id": "5a6c70e6",
   "metadata": {},
   "outputs": [
    {
     "data": {
      "text/plain": [
       "array([[1, 1, 7, 4],\n",
       "       [5, 6, 7, 0],\n",
       "       [4, 1, 4, 9]], dtype=int64)"
      ]
     },
     "execution_count": 79,
     "metadata": {},
     "output_type": "execute_result"
    }
   ],
   "source": [
    "#create an array using random int\n",
    "rng = np.random.default_rng(seed=11)\n",
    "\n",
    "rng.integers(low = 0, high = 10, size = (3,4))"
   ]
  },
  {
   "cell_type": "code",
   "execution_count": 120,
   "id": "23c71a88",
   "metadata": {},
   "outputs": [
    {
     "data": {
      "image/png": "[encoded data removed]",
      "text/plain": [
       "<Figure size 640x480 with 1 Axes>"
      ]
     },
     "metadata": {},
     "output_type": "display_data"
    }
   ],
   "source": [
    "#create an array of 1000 random numbers with mean = 0 and var= 1\n",
    "np.random.seed(13)\n",
    "rng = np.random.normal(loc = 0, scale = 1, size = 1000)\n",
    "\n",
    "#create dataframe from array\n",
    "df = pd.DataFrame({'Values' : rng})\n",
    "df\n",
    "\n",
    "#show histogram of df\n",
    "df.plot(kind='hist')\n",
    "mpl.show()"
   ]
  },
  {
   "cell_type": "code",
   "execution_count": null,
   "id": "2c3fd7cd",
   "metadata": {},
   "outputs": [],
   "source": []
  },
  {
   "cell_type": "code",
   "execution_count": null,
   "id": "5aeca819",
   "metadata": {},
   "outputs": [],
   "source": []
  }
 ],
 "metadata": {
  "kernelspec": {
   "display_name": "Python 3 (ipykernel)",
   "language": "python",
   "name": "python3"
  },
  "language_info": {
   "codemirror_mode": {
    "name": "ipython",
    "version": 3
   },
   "file_extension": ".py",
   "mimetype": "text/x-python",
   "name": "python",
   "nbconvert_exporter": "python",
   "pygments_lexer": "ipython3",
   "version": "3.11.3"
  }
 },
 "nbformat": 4,
 "nbformat_minor": 5
}
